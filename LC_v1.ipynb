{
  "cells": [
    {
      "cell_type": "code",
      "execution_count": 1,
      "metadata": {
        "id": "3-ctFPQ9KcKq"
      },
      "outputs": [],
      "source": [
        "# Numerical and Data Analysis\n",
        "import numpy as np\n",
        "import pandas as pd\n",
        "\n",
        "# Data Visualization\n",
        "import seaborn as sns\n",
        "import matplotlib.pyplot as plt\n",
        "\n",
        "# Extra\n",
        "import warnings\n",
        "warnings.filterwarnings('ignore')\n",
        "pd.set_option('display.max_rows',200)"
      ]
    },
    {
      "cell_type": "code",
      "execution_count": 2,
      "metadata": {
        "colab": {
          "base_uri": "https://localhost:8080/"
        },
        "id": "6FcfjSDpXEdA",
        "outputId": "b93a6009-683b-454d-98af-668978c74497"
      },
      "outputs": [
        {
          "name": "stdout",
          "output_type": "stream",
          "text": [
            "Mounted at /content/drive\n"
          ]
        }
      ],
      "source": [
        "from google.colab import drive\n",
        "drive.mount('/content/drive')"
      ]
    },
    {
      "cell_type": "code",
      "execution_count": 51,
      "metadata": {
        "id": "vzokbC06KzMo"
      },
      "outputs": [],
      "source": [
        "filepath=\"/content/drive/MyDrive/IITB_AIML/1_Statistics/LendingClubCaseStudy/loan.csv\"\n",
        "\n",
        "df = pd.read_csv(filepath)"
      ]
    },
    {
      "cell_type": "markdown",
      "metadata": {
        "id": "6a_SW8nlnoB-"
      },
      "source": [
        "## **Analyze Raw Data**\n",
        "\n",
        "Check column by column using Data Dictionary and get unerstanding the data ( content and type )"
      ]
    },
    {
      "cell_type": "code",
      "execution_count": 16,
      "metadata": {
        "colab": {
          "base_uri": "https://localhost:8080/"
        },
        "id": "gixPQHEwOSau",
        "outputId": "ad5481c7-8f53-4845-cadb-54a4a7523729"
      },
      "outputs": [
        {
          "data": {
            "text/plain": [
              "(39717, 111)"
            ]
          },
          "execution_count": 16,
          "metadata": {},
          "output_type": "execute_result"
        }
      ],
      "source": [
        "df.shape"
      ]
    },
    {
      "cell_type": "code",
      "execution_count": 52,
      "metadata": {
        "colab": {
          "base_uri": "https://localhost:8080/",
          "height": 349
        },
        "id": "zqegu4nMO5Cj",
        "outputId": "f10609aa-3142-44b7-925d-0e4c372b0b88"
      },
      "outputs": [
        {
          "data": {
            "application/vnd.google.colaboratory.intrinsic+json": {
              "type": "dataframe"
            },
            "text/html": [
              "\n",
              "  <div id=\"df-872a2fe4-170d-453f-8a33-7c60f8ce1692\" class=\"colab-df-container\">\n",
              "    <div>\n",
              "<style scoped>\n",
              "    .dataframe tbody tr th:only-of-type {\n",
              "        vertical-align: middle;\n",
              "    }\n",
              "\n",
              "    .dataframe tbody tr th {\n",
              "        vertical-align: top;\n",
              "    }\n",
              "\n",
              "    .dataframe thead th {\n",
              "        text-align: right;\n",
              "    }\n",
              "</style>\n",
              "<table border=\"1\" class=\"dataframe\">\n",
              "  <thead>\n",
              "    <tr style=\"text-align: right;\">\n",
              "      <th></th>\n",
              "      <th>id</th>\n",
              "      <th>member_id</th>\n",
              "      <th>loan_amnt</th>\n",
              "      <th>funded_amnt</th>\n",
              "      <th>funded_amnt_inv</th>\n",
              "      <th>installment</th>\n",
              "      <th>annual_inc</th>\n",
              "      <th>dti</th>\n",
              "      <th>delinq_2yrs</th>\n",
              "      <th>inq_last_6mths</th>\n",
              "      <th>...</th>\n",
              "      <th>num_tl_90g_dpd_24m</th>\n",
              "      <th>num_tl_op_past_12m</th>\n",
              "      <th>pct_tl_nvr_dlq</th>\n",
              "      <th>percent_bc_gt_75</th>\n",
              "      <th>pub_rec_bankruptcies</th>\n",
              "      <th>tax_liens</th>\n",
              "      <th>tot_hi_cred_lim</th>\n",
              "      <th>total_bal_ex_mort</th>\n",
              "      <th>total_bc_limit</th>\n",
              "      <th>total_il_high_credit_limit</th>\n",
              "    </tr>\n",
              "  </thead>\n",
              "  <tbody>\n",
              "    <tr>\n",
              "      <th>count</th>\n",
              "      <td>3.971700e+04</td>\n",
              "      <td>3.971700e+04</td>\n",
              "      <td>39717.000000</td>\n",
              "      <td>39717.000000</td>\n",
              "      <td>39717.000000</td>\n",
              "      <td>39717.000000</td>\n",
              "      <td>3.971700e+04</td>\n",
              "      <td>39717.000000</td>\n",
              "      <td>39717.000000</td>\n",
              "      <td>39717.000000</td>\n",
              "      <td>...</td>\n",
              "      <td>0.0</td>\n",
              "      <td>0.0</td>\n",
              "      <td>0.0</td>\n",
              "      <td>0.0</td>\n",
              "      <td>39020.000000</td>\n",
              "      <td>39678.0</td>\n",
              "      <td>0.0</td>\n",
              "      <td>0.0</td>\n",
              "      <td>0.0</td>\n",
              "      <td>0.0</td>\n",
              "    </tr>\n",
              "    <tr>\n",
              "      <th>mean</th>\n",
              "      <td>6.831319e+05</td>\n",
              "      <td>8.504636e+05</td>\n",
              "      <td>11219.443815</td>\n",
              "      <td>10947.713196</td>\n",
              "      <td>10397.448868</td>\n",
              "      <td>324.561922</td>\n",
              "      <td>6.896893e+04</td>\n",
              "      <td>13.315130</td>\n",
              "      <td>0.146512</td>\n",
              "      <td>0.869200</td>\n",
              "      <td>...</td>\n",
              "      <td>NaN</td>\n",
              "      <td>NaN</td>\n",
              "      <td>NaN</td>\n",
              "      <td>NaN</td>\n",
              "      <td>0.043260</td>\n",
              "      <td>0.0</td>\n",
              "      <td>NaN</td>\n",
              "      <td>NaN</td>\n",
              "      <td>NaN</td>\n",
              "      <td>NaN</td>\n",
              "    </tr>\n",
              "    <tr>\n",
              "      <th>std</th>\n",
              "      <td>2.106941e+05</td>\n",
              "      <td>2.656783e+05</td>\n",
              "      <td>7456.670694</td>\n",
              "      <td>7187.238670</td>\n",
              "      <td>7128.450439</td>\n",
              "      <td>208.874874</td>\n",
              "      <td>6.379377e+04</td>\n",
              "      <td>6.678594</td>\n",
              "      <td>0.491812</td>\n",
              "      <td>1.070219</td>\n",
              "      <td>...</td>\n",
              "      <td>NaN</td>\n",
              "      <td>NaN</td>\n",
              "      <td>NaN</td>\n",
              "      <td>NaN</td>\n",
              "      <td>0.204324</td>\n",
              "      <td>0.0</td>\n",
              "      <td>NaN</td>\n",
              "      <td>NaN</td>\n",
              "      <td>NaN</td>\n",
              "      <td>NaN</td>\n",
              "    </tr>\n",
              "    <tr>\n",
              "      <th>min</th>\n",
              "      <td>5.473400e+04</td>\n",
              "      <td>7.069900e+04</td>\n",
              "      <td>500.000000</td>\n",
              "      <td>500.000000</td>\n",
              "      <td>0.000000</td>\n",
              "      <td>15.690000</td>\n",
              "      <td>4.000000e+03</td>\n",
              "      <td>0.000000</td>\n",
              "      <td>0.000000</td>\n",
              "      <td>0.000000</td>\n",
              "      <td>...</td>\n",
              "      <td>NaN</td>\n",
              "      <td>NaN</td>\n",
              "      <td>NaN</td>\n",
              "      <td>NaN</td>\n",
              "      <td>0.000000</td>\n",
              "      <td>0.0</td>\n",
              "      <td>NaN</td>\n",
              "      <td>NaN</td>\n",
              "      <td>NaN</td>\n",
              "      <td>NaN</td>\n",
              "    </tr>\n",
              "    <tr>\n",
              "      <th>25%</th>\n",
              "      <td>5.162210e+05</td>\n",
              "      <td>6.667800e+05</td>\n",
              "      <td>5500.000000</td>\n",
              "      <td>5400.000000</td>\n",
              "      <td>5000.000000</td>\n",
              "      <td>167.020000</td>\n",
              "      <td>4.040400e+04</td>\n",
              "      <td>8.170000</td>\n",
              "      <td>0.000000</td>\n",
              "      <td>0.000000</td>\n",
              "      <td>...</td>\n",
              "      <td>NaN</td>\n",
              "      <td>NaN</td>\n",
              "      <td>NaN</td>\n",
              "      <td>NaN</td>\n",
              "      <td>0.000000</td>\n",
              "      <td>0.0</td>\n",
              "      <td>NaN</td>\n",
              "      <td>NaN</td>\n",
              "      <td>NaN</td>\n",
              "      <td>NaN</td>\n",
              "    </tr>\n",
              "    <tr>\n",
              "      <th>50%</th>\n",
              "      <td>6.656650e+05</td>\n",
              "      <td>8.508120e+05</td>\n",
              "      <td>10000.000000</td>\n",
              "      <td>9600.000000</td>\n",
              "      <td>8975.000000</td>\n",
              "      <td>280.220000</td>\n",
              "      <td>5.900000e+04</td>\n",
              "      <td>13.400000</td>\n",
              "      <td>0.000000</td>\n",
              "      <td>1.000000</td>\n",
              "      <td>...</td>\n",
              "      <td>NaN</td>\n",
              "      <td>NaN</td>\n",
              "      <td>NaN</td>\n",
              "      <td>NaN</td>\n",
              "      <td>0.000000</td>\n",
              "      <td>0.0</td>\n",
              "      <td>NaN</td>\n",
              "      <td>NaN</td>\n",
              "      <td>NaN</td>\n",
              "      <td>NaN</td>\n",
              "    </tr>\n",
              "    <tr>\n",
              "      <th>75%</th>\n",
              "      <td>8.377550e+05</td>\n",
              "      <td>1.047339e+06</td>\n",
              "      <td>15000.000000</td>\n",
              "      <td>15000.000000</td>\n",
              "      <td>14400.000000</td>\n",
              "      <td>430.780000</td>\n",
              "      <td>8.230000e+04</td>\n",
              "      <td>18.600000</td>\n",
              "      <td>0.000000</td>\n",
              "      <td>1.000000</td>\n",
              "      <td>...</td>\n",
              "      <td>NaN</td>\n",
              "      <td>NaN</td>\n",
              "      <td>NaN</td>\n",
              "      <td>NaN</td>\n",
              "      <td>0.000000</td>\n",
              "      <td>0.0</td>\n",
              "      <td>NaN</td>\n",
              "      <td>NaN</td>\n",
              "      <td>NaN</td>\n",
              "      <td>NaN</td>\n",
              "    </tr>\n",
              "    <tr>\n",
              "      <th>max</th>\n",
              "      <td>1.077501e+06</td>\n",
              "      <td>1.314167e+06</td>\n",
              "      <td>35000.000000</td>\n",
              "      <td>35000.000000</td>\n",
              "      <td>35000.000000</td>\n",
              "      <td>1305.190000</td>\n",
              "      <td>6.000000e+06</td>\n",
              "      <td>29.990000</td>\n",
              "      <td>11.000000</td>\n",
              "      <td>8.000000</td>\n",
              "      <td>...</td>\n",
              "      <td>NaN</td>\n",
              "      <td>NaN</td>\n",
              "      <td>NaN</td>\n",
              "      <td>NaN</td>\n",
              "      <td>2.000000</td>\n",
              "      <td>0.0</td>\n",
              "      <td>NaN</td>\n",
              "      <td>NaN</td>\n",
              "      <td>NaN</td>\n",
              "      <td>NaN</td>\n",
              "    </tr>\n",
              "  </tbody>\n",
              "</table>\n",
              "<p>8 rows × 87 columns</p>\n",
              "</div>\n",
              "    <div class=\"colab-df-buttons\">\n",
              "\n",
              "  <div class=\"colab-df-container\">\n",
              "    <button class=\"colab-df-convert\" onclick=\"convertToInteractive('df-872a2fe4-170d-453f-8a33-7c60f8ce1692')\"\n",
              "            title=\"Convert this dataframe to an interactive table.\"\n",
              "            style=\"display:none;\">\n",
              "\n",
              "  <svg xmlns=\"http://www.w3.org/2000/svg\" height=\"24px\" viewBox=\"0 -960 960 960\">\n",
              "    <path d=\"M120-120v-720h720v720H120Zm60-500h600v-160H180v160Zm220 220h160v-160H400v160Zm0 220h160v-160H400v160ZM180-400h160v-160H180v160Zm440 0h160v-160H620v160ZM180-180h160v-160H180v160Zm440 0h160v-160H620v160Z\"/>\n",
              "  </svg>\n",
              "    </button>\n",
              "\n",
              "  <style>\n",
              "    .colab-df-container {\n",
              "      display:flex;\n",
              "      gap: 12px;\n",
              "    }\n",
              "\n",
              "    .colab-df-convert {\n",
              "      background-color: #E8F0FE;\n",
              "      border: none;\n",
              "      border-radius: 50%;\n",
              "      cursor: pointer;\n",
              "      display: none;\n",
              "      fill: #1967D2;\n",
              "      height: 32px;\n",
              "      padding: 0 0 0 0;\n",
              "      width: 32px;\n",
              "    }\n",
              "\n",
              "    .colab-df-convert:hover {\n",
              "      background-color: #E2EBFA;\n",
              "      box-shadow: 0px 1px 2px rgba(60, 64, 67, 0.3), 0px 1px 3px 1px rgba(60, 64, 67, 0.15);\n",
              "      fill: #174EA6;\n",
              "    }\n",
              "\n",
              "    .colab-df-buttons div {\n",
              "      margin-bottom: 4px;\n",
              "    }\n",
              "\n",
              "    [theme=dark] .colab-df-convert {\n",
              "      background-color: #3B4455;\n",
              "      fill: #D2E3FC;\n",
              "    }\n",
              "\n",
              "    [theme=dark] .colab-df-convert:hover {\n",
              "      background-color: #434B5C;\n",
              "      box-shadow: 0px 1px 3px 1px rgba(0, 0, 0, 0.15);\n",
              "      filter: drop-shadow(0px 1px 2px rgba(0, 0, 0, 0.3));\n",
              "      fill: #FFFFFF;\n",
              "    }\n",
              "  </style>\n",
              "\n",
              "    <script>\n",
              "      const buttonEl =\n",
              "        document.querySelector('#df-872a2fe4-170d-453f-8a33-7c60f8ce1692 button.colab-df-convert');\n",
              "      buttonEl.style.display =\n",
              "        google.colab.kernel.accessAllowed ? 'block' : 'none';\n",
              "\n",
              "      async function convertToInteractive(key) {\n",
              "        const element = document.querySelector('#df-872a2fe4-170d-453f-8a33-7c60f8ce1692');\n",
              "        const dataTable =\n",
              "          await google.colab.kernel.invokeFunction('convertToInteractive',\n",
              "                                                    [key], {});\n",
              "        if (!dataTable) return;\n",
              "\n",
              "        const docLinkHtml = 'Like what you see? Visit the ' +\n",
              "          '<a target=\"_blank\" href=https://colab.research.google.com/notebooks/data_table.ipynb>data table notebook</a>'\n",
              "          + ' to learn more about interactive tables.';\n",
              "        element.innerHTML = '';\n",
              "        dataTable['output_type'] = 'display_data';\n",
              "        await google.colab.output.renderOutput(dataTable, element);\n",
              "        const docLink = document.createElement('div');\n",
              "        docLink.innerHTML = docLinkHtml;\n",
              "        element.appendChild(docLink);\n",
              "      }\n",
              "    </script>\n",
              "  </div>\n",
              "\n",
              "\n",
              "<div id=\"df-b9195d91-4f18-4cb5-9220-2e2ea69d75b4\">\n",
              "  <button class=\"colab-df-quickchart\" onclick=\"quickchart('df-b9195d91-4f18-4cb5-9220-2e2ea69d75b4')\"\n",
              "            title=\"Suggest charts\"\n",
              "            style=\"display:none;\">\n",
              "\n",
              "<svg xmlns=\"http://www.w3.org/2000/svg\" height=\"24px\"viewBox=\"0 0 24 24\"\n",
              "     width=\"24px\">\n",
              "    <g>\n",
              "        <path d=\"M19 3H5c-1.1 0-2 .9-2 2v14c0 1.1.9 2 2 2h14c1.1 0 2-.9 2-2V5c0-1.1-.9-2-2-2zM9 17H7v-7h2v7zm4 0h-2V7h2v10zm4 0h-2v-4h2v4z\"/>\n",
              "    </g>\n",
              "</svg>\n",
              "  </button>\n",
              "\n",
              "<style>\n",
              "  .colab-df-quickchart {\n",
              "      --bg-color: #E8F0FE;\n",
              "      --fill-color: #1967D2;\n",
              "      --hover-bg-color: #E2EBFA;\n",
              "      --hover-fill-color: #174EA6;\n",
              "      --disabled-fill-color: #AAA;\n",
              "      --disabled-bg-color: #DDD;\n",
              "  }\n",
              "\n",
              "  [theme=dark] .colab-df-quickchart {\n",
              "      --bg-color: #3B4455;\n",
              "      --fill-color: #D2E3FC;\n",
              "      --hover-bg-color: #434B5C;\n",
              "      --hover-fill-color: #FFFFFF;\n",
              "      --disabled-bg-color: #3B4455;\n",
              "      --disabled-fill-color: #666;\n",
              "  }\n",
              "\n",
              "  .colab-df-quickchart {\n",
              "    background-color: var(--bg-color);\n",
              "    border: none;\n",
              "    border-radius: 50%;\n",
              "    cursor: pointer;\n",
              "    display: none;\n",
              "    fill: var(--fill-color);\n",
              "    height: 32px;\n",
              "    padding: 0;\n",
              "    width: 32px;\n",
              "  }\n",
              "\n",
              "  .colab-df-quickchart:hover {\n",
              "    background-color: var(--hover-bg-color);\n",
              "    box-shadow: 0 1px 2px rgba(60, 64, 67, 0.3), 0 1px 3px 1px rgba(60, 64, 67, 0.15);\n",
              "    fill: var(--button-hover-fill-color);\n",
              "  }\n",
              "\n",
              "  .colab-df-quickchart-complete:disabled,\n",
              "  .colab-df-quickchart-complete:disabled:hover {\n",
              "    background-color: var(--disabled-bg-color);\n",
              "    fill: var(--disabled-fill-color);\n",
              "    box-shadow: none;\n",
              "  }\n",
              "\n",
              "  .colab-df-spinner {\n",
              "    border: 2px solid var(--fill-color);\n",
              "    border-color: transparent;\n",
              "    border-bottom-color: var(--fill-color);\n",
              "    animation:\n",
              "      spin 1s steps(1) infinite;\n",
              "  }\n",
              "\n",
              "  @keyframes spin {\n",
              "    0% {\n",
              "      border-color: transparent;\n",
              "      border-bottom-color: var(--fill-color);\n",
              "      border-left-color: var(--fill-color);\n",
              "    }\n",
              "    20% {\n",
              "      border-color: transparent;\n",
              "      border-left-color: var(--fill-color);\n",
              "      border-top-color: var(--fill-color);\n",
              "    }\n",
              "    30% {\n",
              "      border-color: transparent;\n",
              "      border-left-color: var(--fill-color);\n",
              "      border-top-color: var(--fill-color);\n",
              "      border-right-color: var(--fill-color);\n",
              "    }\n",
              "    40% {\n",
              "      border-color: transparent;\n",
              "      border-right-color: var(--fill-color);\n",
              "      border-top-color: var(--fill-color);\n",
              "    }\n",
              "    60% {\n",
              "      border-color: transparent;\n",
              "      border-right-color: var(--fill-color);\n",
              "    }\n",
              "    80% {\n",
              "      border-color: transparent;\n",
              "      border-right-color: var(--fill-color);\n",
              "      border-bottom-color: var(--fill-color);\n",
              "    }\n",
              "    90% {\n",
              "      border-color: transparent;\n",
              "      border-bottom-color: var(--fill-color);\n",
              "    }\n",
              "  }\n",
              "</style>\n",
              "\n",
              "  <script>\n",
              "    async function quickchart(key) {\n",
              "      const quickchartButtonEl =\n",
              "        document.querySelector('#' + key + ' button');\n",
              "      quickchartButtonEl.disabled = true;  // To prevent multiple clicks.\n",
              "      quickchartButtonEl.classList.add('colab-df-spinner');\n",
              "      try {\n",
              "        const charts = await google.colab.kernel.invokeFunction(\n",
              "            'suggestCharts', [key], {});\n",
              "      } catch (error) {\n",
              "        console.error('Error during call to suggestCharts:', error);\n",
              "      }\n",
              "      quickchartButtonEl.classList.remove('colab-df-spinner');\n",
              "      quickchartButtonEl.classList.add('colab-df-quickchart-complete');\n",
              "    }\n",
              "    (() => {\n",
              "      let quickchartButtonEl =\n",
              "        document.querySelector('#df-b9195d91-4f18-4cb5-9220-2e2ea69d75b4 button');\n",
              "      quickchartButtonEl.style.display =\n",
              "        google.colab.kernel.accessAllowed ? 'block' : 'none';\n",
              "    })();\n",
              "  </script>\n",
              "</div>\n",
              "\n",
              "    </div>\n",
              "  </div>\n"
            ],
            "text/plain": [
              "                 id     member_id     loan_amnt   funded_amnt  \\\n",
              "count  3.971700e+04  3.971700e+04  39717.000000  39717.000000   \n",
              "mean   6.831319e+05  8.504636e+05  11219.443815  10947.713196   \n",
              "std    2.106941e+05  2.656783e+05   7456.670694   7187.238670   \n",
              "min    5.473400e+04  7.069900e+04    500.000000    500.000000   \n",
              "25%    5.162210e+05  6.667800e+05   5500.000000   5400.000000   \n",
              "50%    6.656650e+05  8.508120e+05  10000.000000   9600.000000   \n",
              "75%    8.377550e+05  1.047339e+06  15000.000000  15000.000000   \n",
              "max    1.077501e+06  1.314167e+06  35000.000000  35000.000000   \n",
              "\n",
              "       funded_amnt_inv   installment    annual_inc           dti  \\\n",
              "count     39717.000000  39717.000000  3.971700e+04  39717.000000   \n",
              "mean      10397.448868    324.561922  6.896893e+04     13.315130   \n",
              "std        7128.450439    208.874874  6.379377e+04      6.678594   \n",
              "min           0.000000     15.690000  4.000000e+03      0.000000   \n",
              "25%        5000.000000    167.020000  4.040400e+04      8.170000   \n",
              "50%        8975.000000    280.220000  5.900000e+04     13.400000   \n",
              "75%       14400.000000    430.780000  8.230000e+04     18.600000   \n",
              "max       35000.000000   1305.190000  6.000000e+06     29.990000   \n",
              "\n",
              "        delinq_2yrs  inq_last_6mths  ...  num_tl_90g_dpd_24m  \\\n",
              "count  39717.000000    39717.000000  ...                 0.0   \n",
              "mean       0.146512        0.869200  ...                 NaN   \n",
              "std        0.491812        1.070219  ...                 NaN   \n",
              "min        0.000000        0.000000  ...                 NaN   \n",
              "25%        0.000000        0.000000  ...                 NaN   \n",
              "50%        0.000000        1.000000  ...                 NaN   \n",
              "75%        0.000000        1.000000  ...                 NaN   \n",
              "max       11.000000        8.000000  ...                 NaN   \n",
              "\n",
              "       num_tl_op_past_12m  pct_tl_nvr_dlq  percent_bc_gt_75  \\\n",
              "count                 0.0             0.0               0.0   \n",
              "mean                  NaN             NaN               NaN   \n",
              "std                   NaN             NaN               NaN   \n",
              "min                   NaN             NaN               NaN   \n",
              "25%                   NaN             NaN               NaN   \n",
              "50%                   NaN             NaN               NaN   \n",
              "75%                   NaN             NaN               NaN   \n",
              "max                   NaN             NaN               NaN   \n",
              "\n",
              "       pub_rec_bankruptcies  tax_liens  tot_hi_cred_lim  total_bal_ex_mort  \\\n",
              "count          39020.000000    39678.0              0.0                0.0   \n",
              "mean               0.043260        0.0              NaN                NaN   \n",
              "std                0.204324        0.0              NaN                NaN   \n",
              "min                0.000000        0.0              NaN                NaN   \n",
              "25%                0.000000        0.0              NaN                NaN   \n",
              "50%                0.000000        0.0              NaN                NaN   \n",
              "75%                0.000000        0.0              NaN                NaN   \n",
              "max                2.000000        0.0              NaN                NaN   \n",
              "\n",
              "       total_bc_limit  total_il_high_credit_limit  \n",
              "count             0.0                         0.0  \n",
              "mean              NaN                         NaN  \n",
              "std               NaN                         NaN  \n",
              "min               NaN                         NaN  \n",
              "25%               NaN                         NaN  \n",
              "50%               NaN                         NaN  \n",
              "75%               NaN                         NaN  \n",
              "max               NaN                         NaN  \n",
              "\n",
              "[8 rows x 87 columns]"
            ]
          },
          "execution_count": 52,
          "metadata": {},
          "output_type": "execute_result"
        }
      ],
      "source": [
        "df.describe()"
      ]
    },
    {
      "cell_type": "code",
      "execution_count": 53,
      "metadata": {
        "colab": {
          "base_uri": "https://localhost:8080/"
        },
        "id": "CX4QKQ7_Q5aP",
        "outputId": "f0264453-e45b-463f-8cad-6ce7808c12e7"
      },
      "outputs": [
        {
          "name": "stdout",
          "output_type": "stream",
          "text": [
            "# Columns are  111\n",
            "Columns are  ['id', 'member_id', 'loan_amnt', 'funded_amnt', 'funded_amnt_inv', 'term', 'int_rate', 'installment', 'grade', 'sub_grade', 'emp_title', 'emp_length', 'home_ownership', 'annual_inc', 'verification_status', 'issue_d', 'loan_status', 'pymnt_plan', 'url', 'desc', 'purpose', 'title', 'zip_code', 'addr_state', 'dti', 'delinq_2yrs', 'earliest_cr_line', 'inq_last_6mths', 'mths_since_last_delinq', 'mths_since_last_record', 'open_acc', 'pub_rec', 'revol_bal', 'revol_util', 'total_acc', 'initial_list_status', 'out_prncp', 'out_prncp_inv', 'total_pymnt', 'total_pymnt_inv', 'total_rec_prncp', 'total_rec_int', 'total_rec_late_fee', 'recoveries', 'collection_recovery_fee', 'last_pymnt_d', 'last_pymnt_amnt', 'next_pymnt_d', 'last_credit_pull_d', 'collections_12_mths_ex_med', 'mths_since_last_major_derog', 'policy_code', 'application_type', 'annual_inc_joint', 'dti_joint', 'verification_status_joint', 'acc_now_delinq', 'tot_coll_amt', 'tot_cur_bal', 'open_acc_6m', 'open_il_6m', 'open_il_12m', 'open_il_24m', 'mths_since_rcnt_il', 'total_bal_il', 'il_util', 'open_rv_12m', 'open_rv_24m', 'max_bal_bc', 'all_util', 'total_rev_hi_lim', 'inq_fi', 'total_cu_tl', 'inq_last_12m', 'acc_open_past_24mths', 'avg_cur_bal', 'bc_open_to_buy', 'bc_util', 'chargeoff_within_12_mths', 'delinq_amnt', 'mo_sin_old_il_acct', 'mo_sin_old_rev_tl_op', 'mo_sin_rcnt_rev_tl_op', 'mo_sin_rcnt_tl', 'mort_acc', 'mths_since_recent_bc', 'mths_since_recent_bc_dlq', 'mths_since_recent_inq', 'mths_since_recent_revol_delinq', 'num_accts_ever_120_pd', 'num_actv_bc_tl', 'num_actv_rev_tl', 'num_bc_sats', 'num_bc_tl', 'num_il_tl', 'num_op_rev_tl', 'num_rev_accts', 'num_rev_tl_bal_gt_0', 'num_sats', 'num_tl_120dpd_2m', 'num_tl_30dpd', 'num_tl_90g_dpd_24m', 'num_tl_op_past_12m', 'pct_tl_nvr_dlq', 'percent_bc_gt_75', 'pub_rec_bankruptcies', 'tax_liens', 'tot_hi_cred_lim', 'total_bal_ex_mort', 'total_bc_limit', 'total_il_high_credit_limit']\n"
          ]
        }
      ],
      "source": [
        "#Get All Column Names\n",
        "\n",
        "col= list(df.columns)\n",
        "print(\"# Columns are \", len(col))\n",
        "print(\"Columns are \", col)"
      ]
    },
    {
      "cell_type": "markdown",
      "metadata": {
        "id": "Nc03A5Shd2V1"
      },
      "source": [
        "### Creating new dataframe for Analysis"
      ]
    },
    {
      "cell_type": "code",
      "execution_count": 87,
      "metadata": {
        "colab": {
          "base_uri": "https://localhost:8080/"
        },
        "id": "egU8Di7AR2fl",
        "outputId": "aa0ad727-fb3d-4e2a-8f21-1453449dc969"
      },
      "outputs": [
        {
          "name": "stdout",
          "output_type": "stream",
          "text": [
            "--> annual_inc_joint\n",
            "removed col  ['annual_inc_joint', 'dti_joint', 'verification_status_joint', 'acc_now_delinq', 'tot_coll_amt', 'tot_cur_bal', 'open_acc_6m', 'open_il_6m', 'open_il_12m', 'open_il_24m', 'mths_since_rcnt_il', 'total_bal_il', 'il_util', 'open_rv_12m', 'open_rv_24m', 'max_bal_bc', 'all_util', 'total_rev_hi_lim', 'inq_fi', 'total_cu_tl', 'inq_last_12m', 'acc_open_past_24mths', 'avg_cur_bal', 'bc_open_to_buy', 'bc_util', 'chargeoff_within_12_mths', 'delinq_amnt', 'mo_sin_old_il_acct', 'mo_sin_old_rev_tl_op', 'mo_sin_rcnt_rev_tl_op', 'mo_sin_rcnt_tl', 'mort_acc', 'mths_since_recent_bc', 'mths_since_recent_bc_dlq', 'mths_since_recent_inq', 'mths_since_recent_revol_delinq', 'num_accts_ever_120_pd', 'num_actv_bc_tl', 'num_actv_rev_tl', 'num_bc_sats', 'num_bc_tl', 'num_il_tl', 'num_op_rev_tl', 'num_rev_accts', 'num_rev_tl_bal_gt_0', 'num_sats', 'num_tl_120dpd_2m', 'num_tl_30dpd', 'num_tl_90g_dpd_24m', 'num_tl_op_past_12m', 'pct_tl_nvr_dlq', 'percent_bc_gt_75', 'pub_rec_bankruptcies', 'tax_liens', 'tot_hi_cred_lim', 'total_bal_ex_mort', 'total_bc_limit', 'total_il_high_credit_limit']\n"
          ]
        }
      ],
      "source": [
        "#Removing unwanted columns\n",
        "\n",
        "#After basic analysis columns after [ annual_inc_joint ] are not useful as there is not data.\n",
        "\n",
        "print(\"-->\",col[53])\n",
        "columns_removed=col[53:]\n",
        "print(\"removed col \",columns_removed)\n",
        "df1=df.drop(columns_removed,axis=1)\n",
        "\n",
        "\n",
        "\n"
      ]
    },
    {
      "cell_type": "code",
      "execution_count": 88,
      "metadata": {
        "colab": {
          "base_uri": "https://localhost:8080/"
        },
        "id": "ohSUI_PbS8mI",
        "outputId": "115fc886-ad3b-4712-d8b1-8e3e77b0eb7d"
      },
      "outputs": [
        {
          "name": "stdout",
          "output_type": "stream",
          "text": [
            "# Columns are  53\n",
            "Columns are  ['id', 'member_id', 'loan_amnt', 'funded_amnt', 'funded_amnt_inv', 'term', 'int_rate', 'installment', 'grade', 'sub_grade', 'emp_title', 'emp_length', 'home_ownership', 'annual_inc', 'verification_status', 'issue_d', 'loan_status', 'pymnt_plan', 'url', 'desc', 'purpose', 'title', 'zip_code', 'addr_state', 'dti', 'delinq_2yrs', 'earliest_cr_line', 'inq_last_6mths', 'mths_since_last_delinq', 'mths_since_last_record', 'open_acc', 'pub_rec', 'revol_bal', 'revol_util', 'total_acc', 'initial_list_status', 'out_prncp', 'out_prncp_inv', 'total_pymnt', 'total_pymnt_inv', 'total_rec_prncp', 'total_rec_int', 'total_rec_late_fee', 'recoveries', 'collection_recovery_fee', 'last_pymnt_d', 'last_pymnt_amnt', 'next_pymnt_d', 'last_credit_pull_d', 'collections_12_mths_ex_med', 'mths_since_last_major_derog', 'policy_code', 'application_type']\n"
          ]
        }
      ],
      "source": [
        "#Get  Column afte dropping columns after annual_inc_joint\n",
        "\n",
        "col1= list(df1.columns)\n",
        "print(\"# Columns are \", len(col1))\n",
        "print(\"Columns are \", col1)\n",
        "\n",
        "\n"
      ]
    },
    {
      "cell_type": "code",
      "execution_count": 89,
      "metadata": {
        "colab": {
          "base_uri": "https://localhost:8080/"
        },
        "id": "B3AzwU74OZ_D",
        "outputId": "d8847389-aa87-4094-8781-bfe7137153bc"
      },
      "outputs": [
        {
          "name": "stdout",
          "output_type": "stream",
          "text": [
            "<class 'pandas.core.frame.DataFrame'>\n",
            "RangeIndex: 39717 entries, 0 to 39716\n",
            "Data columns (total 53 columns):\n",
            " #   Column                       Non-Null Count  Dtype  \n",
            "---  ------                       --------------  -----  \n",
            " 0   id                           39717 non-null  int64  \n",
            " 1   member_id                    39717 non-null  int64  \n",
            " 2   loan_amnt                    39717 non-null  int64  \n",
            " 3   funded_amnt                  39717 non-null  int64  \n",
            " 4   funded_amnt_inv              39717 non-null  float64\n",
            " 5   term                         39717 non-null  object \n",
            " 6   int_rate                     39717 non-null  object \n",
            " 7   installment                  39717 non-null  float64\n",
            " 8   grade                        39717 non-null  object \n",
            " 9   sub_grade                    39717 non-null  object \n",
            " 10  emp_title                    37258 non-null  object \n",
            " 11  emp_length                   38642 non-null  object \n",
            " 12  home_ownership               39717 non-null  object \n",
            " 13  annual_inc                   39717 non-null  float64\n",
            " 14  verification_status          39717 non-null  object \n",
            " 15  issue_d                      39717 non-null  object \n",
            " 16  loan_status                  39717 non-null  object \n",
            " 17  pymnt_plan                   39717 non-null  object \n",
            " 18  url                          39717 non-null  object \n",
            " 19  desc                         26775 non-null  object \n",
            " 20  purpose                      39717 non-null  object \n",
            " 21  title                        39706 non-null  object \n",
            " 22  zip_code                     39717 non-null  object \n",
            " 23  addr_state                   39717 non-null  object \n",
            " 24  dti                          39717 non-null  float64\n",
            " 25  delinq_2yrs                  39717 non-null  int64  \n",
            " 26  earliest_cr_line             39717 non-null  object \n",
            " 27  inq_last_6mths               39717 non-null  int64  \n",
            " 28  mths_since_last_delinq       14035 non-null  float64\n",
            " 29  mths_since_last_record       2786 non-null   float64\n",
            " 30  open_acc                     39717 non-null  int64  \n",
            " 31  pub_rec                      39717 non-null  int64  \n",
            " 32  revol_bal                    39717 non-null  int64  \n",
            " 33  revol_util                   39667 non-null  object \n",
            " 34  total_acc                    39717 non-null  int64  \n",
            " 35  initial_list_status          39717 non-null  object \n",
            " 36  out_prncp                    39717 non-null  float64\n",
            " 37  out_prncp_inv                39717 non-null  float64\n",
            " 38  total_pymnt                  39717 non-null  float64\n",
            " 39  total_pymnt_inv              39717 non-null  float64\n",
            " 40  total_rec_prncp              39717 non-null  float64\n",
            " 41  total_rec_int                39717 non-null  float64\n",
            " 42  total_rec_late_fee           39717 non-null  float64\n",
            " 43  recoveries                   39717 non-null  float64\n",
            " 44  collection_recovery_fee      39717 non-null  float64\n",
            " 45  last_pymnt_d                 39646 non-null  object \n",
            " 46  last_pymnt_amnt              39717 non-null  float64\n",
            " 47  next_pymnt_d                 1140 non-null   object \n",
            " 48  last_credit_pull_d           39715 non-null  object \n",
            " 49  collections_12_mths_ex_med   39661 non-null  float64\n",
            " 50  mths_since_last_major_derog  0 non-null      float64\n",
            " 51  policy_code                  39717 non-null  int64  \n",
            " 52  application_type             39717 non-null  object \n",
            "dtypes: float64(18), int64(11), object(24)\n",
            "memory usage: 16.1+ MB\n"
          ]
        }
      ],
      "source": [
        "df1.info()"
      ]
    },
    {
      "cell_type": "code",
      "execution_count": 90,
      "metadata": {
        "colab": {
          "base_uri": "https://localhost:8080/"
        },
        "id": "0J6z2MtKPDU7",
        "outputId": "7e871b6c-b7c0-42c7-ab18-a5bcb857f20d"
      },
      "outputs": [
        {
          "data": {
            "text/plain": [
              "id                               0.000000\n",
              "member_id                        0.000000\n",
              "loan_amnt                        0.000000\n",
              "funded_amnt                      0.000000\n",
              "funded_amnt_inv                  0.000000\n",
              "term                             0.000000\n",
              "int_rate                         0.000000\n",
              "installment                      0.000000\n",
              "grade                            0.000000\n",
              "sub_grade                        0.000000\n",
              "emp_title                        6.191303\n",
              "emp_length                       2.706650\n",
              "home_ownership                   0.000000\n",
              "annual_inc                       0.000000\n",
              "verification_status              0.000000\n",
              "issue_d                          0.000000\n",
              "loan_status                      0.000000\n",
              "pymnt_plan                       0.000000\n",
              "url                              0.000000\n",
              "desc                            32.585543\n",
              "purpose                          0.000000\n",
              "title                            0.027696\n",
              "zip_code                         0.000000\n",
              "addr_state                       0.000000\n",
              "dti                              0.000000\n",
              "delinq_2yrs                      0.000000\n",
              "earliest_cr_line                 0.000000\n",
              "inq_last_6mths                   0.000000\n",
              "mths_since_last_delinq          64.662487\n",
              "mths_since_last_record          92.985372\n",
              "open_acc                         0.000000\n",
              "pub_rec                          0.000000\n",
              "revol_bal                        0.000000\n",
              "revol_util                       0.125891\n",
              "total_acc                        0.000000\n",
              "initial_list_status              0.000000\n",
              "out_prncp                        0.000000\n",
              "out_prncp_inv                    0.000000\n",
              "total_pymnt                      0.000000\n",
              "total_pymnt_inv                  0.000000\n",
              "total_rec_prncp                  0.000000\n",
              "total_rec_int                    0.000000\n",
              "total_rec_late_fee               0.000000\n",
              "recoveries                       0.000000\n",
              "collection_recovery_fee          0.000000\n",
              "last_pymnt_d                     0.178765\n",
              "last_pymnt_amnt                  0.000000\n",
              "next_pymnt_d                    97.129693\n",
              "last_credit_pull_d               0.005036\n",
              "collections_12_mths_ex_med       0.140998\n",
              "mths_since_last_major_derog    100.000000\n",
              "policy_code                      0.000000\n",
              "application_type                 0.000000\n",
              "dtype: float64"
            ]
          },
          "execution_count": 90,
          "metadata": {},
          "output_type": "execute_result"
        }
      ],
      "source": [
        "df1.isnull().mean()*100"
      ]
    },
    {
      "cell_type": "code",
      "execution_count": 91,
      "metadata": {
        "colab": {
          "base_uri": "https://localhost:8080/"
        },
        "id": "kZdKRlO-PDez",
        "outputId": "e667e28d-673f-4d34-b1a9-c2d703ce4ecb"
      },
      "outputs": [
        {
          "data": {
            "text/plain": [
              "application_type\n",
              "INDIVIDUAL    39717\n",
              "Name: count, dtype: int64"
            ]
          },
          "execution_count": 91,
          "metadata": {},
          "output_type": "execute_result"
        }
      ],
      "source": [
        "df1.application_type.value_counts()"
      ]
    },
    {
      "cell_type": "code",
      "execution_count": 92,
      "metadata": {
        "colab": {
          "base_uri": "https://localhost:8080/"
        },
        "id": "f_pyZyHCPDiD",
        "outputId": "e750afb2-a0e6-4f18-a16d-a61d7b02d5b8"
      },
      "outputs": [
        {
          "data": {
            "text/plain": [
              "policy_code\n",
              "1    39717\n",
              "Name: count, dtype: int64"
            ]
          },
          "execution_count": 92,
          "metadata": {},
          "output_type": "execute_result"
        }
      ],
      "source": [
        "df1.policy_code.value_counts()"
      ]
    },
    {
      "cell_type": "code",
      "execution_count": 93,
      "metadata": {
        "id": "M0LxmZ4CPDlJ"
      },
      "outputs": [],
      "source": [
        "#removing columns with only 1 value in all rows\n",
        "\n",
        "df1=df1.drop(['application_type','policy_code','mths_since_last_major_derog'],axis=1)"
      ]
    },
    {
      "cell_type": "code",
      "execution_count": 94,
      "metadata": {
        "colab": {
          "base_uri": "https://localhost:8080/"
        },
        "id": "0EoBQcLEPDoC",
        "outputId": "97cf572b-b0b4-42cc-92fa-0789fc33c81b"
      },
      "outputs": [
        {
          "data": {
            "text/plain": [
              "id                             0.000000\n",
              "member_id                      0.000000\n",
              "loan_amnt                      0.000000\n",
              "funded_amnt                    0.000000\n",
              "funded_amnt_inv                0.000000\n",
              "term                           0.000000\n",
              "int_rate                       0.000000\n",
              "installment                    0.000000\n",
              "grade                          0.000000\n",
              "sub_grade                      0.000000\n",
              "emp_title                      6.191303\n",
              "emp_length                     2.706650\n",
              "home_ownership                 0.000000\n",
              "annual_inc                     0.000000\n",
              "verification_status            0.000000\n",
              "issue_d                        0.000000\n",
              "loan_status                    0.000000\n",
              "pymnt_plan                     0.000000\n",
              "url                            0.000000\n",
              "desc                          32.585543\n",
              "purpose                        0.000000\n",
              "title                          0.027696\n",
              "zip_code                       0.000000\n",
              "addr_state                     0.000000\n",
              "dti                            0.000000\n",
              "delinq_2yrs                    0.000000\n",
              "earliest_cr_line               0.000000\n",
              "inq_last_6mths                 0.000000\n",
              "mths_since_last_delinq        64.662487\n",
              "mths_since_last_record        92.985372\n",
              "open_acc                       0.000000\n",
              "pub_rec                        0.000000\n",
              "revol_bal                      0.000000\n",
              "revol_util                     0.125891\n",
              "total_acc                      0.000000\n",
              "initial_list_status            0.000000\n",
              "out_prncp                      0.000000\n",
              "out_prncp_inv                  0.000000\n",
              "total_pymnt                    0.000000\n",
              "total_pymnt_inv                0.000000\n",
              "total_rec_prncp                0.000000\n",
              "total_rec_int                  0.000000\n",
              "total_rec_late_fee             0.000000\n",
              "recoveries                     0.000000\n",
              "collection_recovery_fee        0.000000\n",
              "last_pymnt_d                   0.178765\n",
              "last_pymnt_amnt                0.000000\n",
              "next_pymnt_d                  97.129693\n",
              "last_credit_pull_d             0.005036\n",
              "collections_12_mths_ex_med     0.140998\n",
              "dtype: float64"
            ]
          },
          "execution_count": 94,
          "metadata": {},
          "output_type": "execute_result"
        }
      ],
      "source": [
        "df1.isnull().mean()*100"
      ]
    },
    {
      "cell_type": "code",
      "execution_count": 95,
      "metadata": {
        "colab": {
          "base_uri": "https://localhost:8080/"
        },
        "id": "HD2-30SUPDq9",
        "outputId": "ab06c345-1a37-4dc0-a4c8-14c5026d8279"
      },
      "outputs": [
        {
          "data": {
            "text/plain": [
              "array([nan, 'Ryder', 'AIR RESOURCES BOARD', ..., 'FiSite Research',\n",
              "       'Squarewave Solutions, Ltd.', 'Evergreen Center'], dtype=object)"
            ]
          },
          "execution_count": 95,
          "metadata": {},
          "output_type": "execute_result"
        }
      ],
      "source": [
        "df1.emp_title.unique()"
      ]
    },
    {
      "cell_type": "code",
      "execution_count": 27,
      "metadata": {
        "id": "NkRES25bPDuF"
      },
      "outputs": [],
      "source": []
    },
    {
      "cell_type": "markdown",
      "metadata": {
        "id": "xgowVhOAYJ59"
      },
      "source": [
        "### Questions"
      ]
    },
    {
      "cell_type": "code",
      "execution_count": 27,
      "metadata": {
        "id": "uZJkSGb4PDxK"
      },
      "outputs": [],
      "source": [
        "# Do we need Emp title ?\n"
      ]
    },
    {
      "cell_type": "code",
      "execution_count": 27,
      "metadata": {
        "id": "eFRsmT8BPD0F"
      },
      "outputs": [],
      "source": []
    },
    {
      "cell_type": "code",
      "execution_count": 27,
      "metadata": {
        "id": "gbozXsj1PD39"
      },
      "outputs": [],
      "source": []
    },
    {
      "cell_type": "code",
      "execution_count": 27,
      "metadata": {
        "id": "LS3JDM6SPECi"
      },
      "outputs": [],
      "source": []
    },
    {
      "cell_type": "markdown",
      "metadata": {
        "id": "hlXJ42HKoLWi"
      },
      "source": [
        "## **Cleansing Data**\n",
        "\n",
        "\n",
        "* Find Shape of data\n",
        "* Check for Null columns and cells\n",
        "* For numeric data use either median ( mostly ) or mode as required\n",
        "* For categorical data use Mode"
      ]
    },
    {
      "cell_type": "code",
      "execution_count": 96,
      "metadata": {
        "colab": {
          "base_uri": "https://localhost:8080/"
        },
        "id": "I32gAd_mYrQN",
        "outputId": "a52c25c9-cbc5-4ecf-94e4-8ddbd92a257b"
      },
      "outputs": [
        {
          "data": {
            "text/plain": [
              "emp_length\n",
              "10+ years    8879\n",
              "< 1 year     4583\n",
              "2 years      4388\n",
              "3 years      4095\n",
              "4 years      3436\n",
              "5 years      3282\n",
              "1 year       3240\n",
              "6 years      2229\n",
              "7 years      1773\n",
              "8 years      1479\n",
              "9 years      1258\n",
              "Name: count, dtype: int64"
            ]
          },
          "execution_count": 96,
          "metadata": {},
          "output_type": "execute_result"
        }
      ],
      "source": [
        "#emp_lenght is  2.706650 null. Filling it with Median\n",
        "\n",
        "#examine the data in the column\n",
        "\n",
        "df1.emp_length.unique()\n",
        "df1.emp_length.nunique()\n",
        "df1.emp_length.value_counts()\n"
      ]
    },
    {
      "cell_type": "code",
      "execution_count": 101,
      "metadata": {
        "id": "-qDyiD8-ZfW-"
      },
      "outputs": [],
      "source": [
        "# Convert Object to int\n",
        "\n",
        "def getYears(x):\n",
        "  if isinstance(x, str):\n",
        "    xlist=x.split(\" \")\n",
        "  else:\n",
        "    xlist = []\n",
        "\n",
        "\n",
        "  if(len(xlist) == 3):\n",
        "    ans=0\n",
        "  elif (len(xlist) == 2):\n",
        "    ans=x.split(\" \")[0][:2]\n",
        "  else:\n",
        "      ans=x\n",
        "  return int(ans)\n",
        "\n",
        "\n",
        "# Convertng Object to int\n",
        "df1['emp_length'] =  df1['emp_length'].apply(getYears)\n"
      ]
    },
    {
      "cell_type": "code",
      "execution_count": 98,
      "metadata": {
        "colab": {
          "base_uri": "https://localhost:8080/"
        },
        "id": "wCHtemcrdNP8",
        "outputId": "7fde91a4-606d-4df6-8d20-9de1fc602b0c"
      },
      "outputs": [
        {
          "data": {
            "text/plain": [
              "emp_length\n",
              "10    8879\n",
              "0     4583\n",
              "2     4388\n",
              "3     4095\n",
              "4     3436\n",
              "5     3282\n",
              "1     3240\n",
              "6     2229\n",
              "7     1773\n",
              "8     1479\n",
              "9     1258\n",
              "Name: count, dtype: int64"
            ]
          },
          "execution_count": 98,
          "metadata": {},
          "output_type": "execute_result"
        }
      ],
      "source": [
        "df1.emp_length.unique()\n",
        "df1.emp_length.value_counts()"
      ]
    },
    {
      "cell_type": "code",
      "execution_count": 102,
      "metadata": {
        "colab": {
          "base_uri": "https://localhost:8080/"
        },
        "id": "mu-Kl7G5e0N0",
        "outputId": "28afd35a-154d-4898-c8ea-f481cd583782"
      },
      "outputs": [
        {
          "name": "stdout",
          "output_type": "stream",
          "text": [
            "4\n"
          ]
        },
        {
          "data": {
            "text/plain": [
              "emp_length\n",
              "10    8879\n",
              "0     4583\n",
              "4     4511\n",
              "2     4388\n",
              "3     4095\n",
              "5     3282\n",
              "1     3240\n",
              "6     2229\n",
              "7     1773\n",
              "8     1479\n",
              "9     1258\n",
              "Name: count, dtype: int64"
            ]
          },
          "execution_count": 102,
          "metadata": {},
          "output_type": "execute_result"
        }
      ],
      "source": [
        "#Find the median of the emp_length\n",
        "import math\n",
        "\n",
        "expmedian= math.trunc(int(df1.emp_length.median()))\n",
        "print(math.trunc(expmedian))\n",
        "\n",
        "df1.emp_length.isnull().sum()\n",
        "\n",
        "df1.emp_length=df1.emp_length.fillna(math.trunc(expmedian))\n",
        "df1.emp_length.value_counts()"
      ]
    },
    {
      "cell_type": "code",
      "execution_count": 103,
      "metadata": {
        "colab": {
          "base_uri": "https://localhost:8080/"
        },
        "id": "VcgFca2ygl8M",
        "outputId": "b8068eb5-0b8d-45ff-cb31-360621d23e71"
      },
      "outputs": [
        {
          "data": {
            "text/plain": [
              "id                             0.000000\n",
              "member_id                      0.000000\n",
              "loan_amnt                      0.000000\n",
              "funded_amnt                    0.000000\n",
              "funded_amnt_inv                0.000000\n",
              "term                           0.000000\n",
              "int_rate                       0.000000\n",
              "installment                    0.000000\n",
              "grade                          0.000000\n",
              "sub_grade                      0.000000\n",
              "emp_title                      6.191303\n",
              "emp_length                     0.000000\n",
              "home_ownership                 0.000000\n",
              "annual_inc                     0.000000\n",
              "verification_status            0.000000\n",
              "issue_d                        0.000000\n",
              "loan_status                    0.000000\n",
              "pymnt_plan                     0.000000\n",
              "url                            0.000000\n",
              "desc                          32.585543\n",
              "purpose                        0.000000\n",
              "title                          0.027696\n",
              "zip_code                       0.000000\n",
              "addr_state                     0.000000\n",
              "dti                            0.000000\n",
              "delinq_2yrs                    0.000000\n",
              "earliest_cr_line               0.000000\n",
              "inq_last_6mths                 0.000000\n",
              "mths_since_last_delinq        64.662487\n",
              "mths_since_last_record        92.985372\n",
              "open_acc                       0.000000\n",
              "pub_rec                        0.000000\n",
              "revol_bal                      0.000000\n",
              "revol_util                     0.125891\n",
              "total_acc                      0.000000\n",
              "initial_list_status            0.000000\n",
              "out_prncp                      0.000000\n",
              "out_prncp_inv                  0.000000\n",
              "total_pymnt                    0.000000\n",
              "total_pymnt_inv                0.000000\n",
              "total_rec_prncp                0.000000\n",
              "total_rec_int                  0.000000\n",
              "total_rec_late_fee             0.000000\n",
              "recoveries                     0.000000\n",
              "collection_recovery_fee        0.000000\n",
              "last_pymnt_d                   0.178765\n",
              "last_pymnt_amnt                0.000000\n",
              "next_pymnt_d                  97.129693\n",
              "last_credit_pull_d             0.005036\n",
              "collections_12_mths_ex_med     0.140998\n",
              "dtype: float64"
            ]
          },
          "execution_count": 103,
          "metadata": {},
          "output_type": "execute_result"
        }
      ],
      "source": [
        "df1.isnull().mean()*100"
      ]
    },
    {
      "cell_type": "code",
      "execution_count": 109,
      "metadata": {
        "colab": {
          "base_uri": "https://localhost:8080/"
        },
        "id": "nKE-bFJ3kVG9",
        "outputId": "bbc6ec94-4544-4d67-c449-3b4d767895af"
      },
      "outputs": [
        {
          "data": {
            "text/plain": [
              "mths_since_last_delinq\n",
              "0.0      443\n",
              "15.0     252\n",
              "30.0     247\n",
              "23.0     247\n",
              "24.0     241\n",
              "19.0     238\n",
              "38.0     237\n",
              "20.0     233\n",
              "18.0     231\n",
              "22.0     231\n",
              "31.0     229\n",
              "35.0     227\n",
              "32.0     226\n",
              "39.0     224\n",
              "25.0     223\n",
              "45.0     222\n",
              "37.0     217\n",
              "26.0     217\n",
              "21.0     216\n",
              "17.0     214\n",
              "16.0     214\n",
              "27.0     212\n",
              "36.0     210\n",
              "42.0     208\n",
              "10.0     208\n",
              "29.0     207\n",
              "47.0     206\n",
              "43.0     201\n",
              "34.0     201\n",
              "44.0     200\n",
              "14.0     198\n",
              "46.0     197\n",
              "41.0     197\n",
              "40.0     197\n",
              "12.0     195\n",
              "48.0     194\n",
              "28.0     193\n",
              "6.0      192\n",
              "33.0     188\n",
              "9.0      182\n",
              "7.0      176\n",
              "13.0     171\n",
              "8.0      168\n",
              "11.0     166\n",
              "4.0      153\n",
              "49.0     152\n",
              "5.0      151\n",
              "58.0     148\n",
              "3.0      145\n",
              "59.0     143\n",
              "53.0     143\n",
              "52.0     137\n",
              "56.0     134\n",
              "73.0     131\n",
              "50.0     131\n",
              "55.0     129\n",
              "68.0     128\n",
              "63.0     127\n",
              "60.0     126\n",
              "57.0     125\n",
              "72.0     124\n",
              "71.0     122\n",
              "70.0     119\n",
              "54.0     115\n",
              "74.0     114\n",
              "67.0     113\n",
              "62.0     113\n",
              "75.0     112\n",
              "76.0     112\n",
              "61.0     110\n",
              "69.0     108\n",
              "51.0     107\n",
              "79.0     103\n",
              "2.0      101\n",
              "66.0     101\n",
              "78.0      99\n",
              "64.0      97\n",
              "80.0      93\n",
              "65.0      92\n",
              "81.0      91\n",
              "77.0      88\n",
              "82.0      54\n",
              "1.0       30\n",
              "83.0       5\n",
              "103.0      2\n",
              "86.0       2\n",
              "115.0      1\n",
              "96.0       1\n",
              "120.0      1\n",
              "106.0      1\n",
              "89.0       1\n",
              "107.0      1\n",
              "85.0       1\n",
              "97.0       1\n",
              "95.0       1\n",
              "Name: count, dtype: int64"
            ]
          },
          "execution_count": 109,
          "metadata": {},
          "output_type": "execute_result"
        }
      ],
      "source": [
        "# Analysis of mths_since_last_delinq\n",
        "df1.mths_since_last_delinq.value_counts()"
      ]
    },
    {
      "cell_type": "code",
      "execution_count": 107,
      "metadata": {
        "colab": {
          "base_uri": "https://localhost:8080/"
        },
        "id": "lt1Wy5f_jZ_i",
        "outputId": "3c9562ba-51fc-43cb-ec9e-0cafe9368894"
      },
      "outputs": [
        {
          "data": {
            "text/plain": [
              "14035"
            ]
          },
          "execution_count": 107,
          "metadata": {},
          "output_type": "execute_result"
        }
      ],
      "source": [
        "\n",
        "df1.mths_since_last_delinq.value_counts().sum()  #14035\n",
        "df1.mths_since_last_delinq.isnull().sum()  #25682"
      ]
    },
    {
      "cell_type": "code",
      "execution_count": 110,
      "metadata": {
        "id": "MXXz6gJJjxD0"
      },
      "outputs": [],
      "source": [
        "delMedian=df1.mths_since_last_delinq.median()\n",
        "\n",
        "df1.mths_since_last_delinq =df1.mths_since_last_delinq.fillna(delMedian)"
      ]
    },
    {
      "cell_type": "code",
      "execution_count": 112,
      "metadata": {
        "colab": {
          "base_uri": "https://localhost:8080/"
        },
        "id": "3aluyN1Fkkla",
        "outputId": "39e89342-4ab6-4ea7-fd14-317b1d1daff4"
      },
      "outputs": [
        {
          "data": {
            "text/plain": [
              "0"
            ]
          },
          "execution_count": 112,
          "metadata": {},
          "output_type": "execute_result"
        }
      ],
      "source": [
        "df1.mths_since_last_delinq.value_counts().sum() #39717\n",
        "df1.mths_since_last_delinq.isnull().sum()  #0"
      ]
    },
    {
      "cell_type": "markdown",
      "metadata": {
        "id": "DJAEQSMOpUFf"
      },
      "source": [
        "## **Univariate Analysis**\n",
        "\n",
        "* Identify the columns to be Analyzed\n",
        "* Generate plots ( Bar , Box Plot and Histogram )\n",
        "* Review each column and *remove outliers\n"
      ]
    },
    {
      "cell_type": "markdown",
      "metadata": {
        "id": "2a93PWj7lYiq"
      },
      "source": [
        "##Segmentation"
      ]
    },
    {
      "cell_type": "code",
      "execution_count": 113,
      "metadata": {
        "colab": {
          "base_uri": "https://localhost:8080/",
          "height": 245
        },
        "id": "xfwsimAulfym",
        "outputId": "582ecbeb-c079-411c-f36e-374356f5c348"
      },
      "outputs": [
        {
          "data": {
            "application/vnd.google.colaboratory.intrinsic+json": {
              "type": "dataframe",
              "variable_name": "df1"
            },
            "text/html": [
              "\n",
              "  <div id=\"df-433e636d-1e84-4095-ac53-7a84d477119f\" class=\"colab-df-container\">\n",
              "    <div>\n",
              "<style scoped>\n",
              "    .dataframe tbody tr th:only-of-type {\n",
              "        vertical-align: middle;\n",
              "    }\n",
              "\n",
              "    .dataframe tbody tr th {\n",
              "        vertical-align: top;\n",
              "    }\n",
              "\n",
              "    .dataframe thead th {\n",
              "        text-align: right;\n",
              "    }\n",
              "</style>\n",
              "<table border=\"1\" class=\"dataframe\">\n",
              "  <thead>\n",
              "    <tr style=\"text-align: right;\">\n",
              "      <th></th>\n",
              "      <th>id</th>\n",
              "      <th>member_id</th>\n",
              "      <th>loan_amnt</th>\n",
              "      <th>funded_amnt</th>\n",
              "      <th>funded_amnt_inv</th>\n",
              "      <th>term</th>\n",
              "      <th>int_rate</th>\n",
              "      <th>installment</th>\n",
              "      <th>grade</th>\n",
              "      <th>sub_grade</th>\n",
              "      <th>...</th>\n",
              "      <th>total_rec_prncp</th>\n",
              "      <th>total_rec_int</th>\n",
              "      <th>total_rec_late_fee</th>\n",
              "      <th>recoveries</th>\n",
              "      <th>collection_recovery_fee</th>\n",
              "      <th>last_pymnt_d</th>\n",
              "      <th>last_pymnt_amnt</th>\n",
              "      <th>next_pymnt_d</th>\n",
              "      <th>last_credit_pull_d</th>\n",
              "      <th>collections_12_mths_ex_med</th>\n",
              "    </tr>\n",
              "  </thead>\n",
              "  <tbody>\n",
              "    <tr>\n",
              "      <th>0</th>\n",
              "      <td>1077501</td>\n",
              "      <td>1296599</td>\n",
              "      <td>5000</td>\n",
              "      <td>5000</td>\n",
              "      <td>4975.0</td>\n",
              "      <td>36 months</td>\n",
              "      <td>10.65%</td>\n",
              "      <td>162.87</td>\n",
              "      <td>B</td>\n",
              "      <td>B2</td>\n",
              "      <td>...</td>\n",
              "      <td>5000.00</td>\n",
              "      <td>863.16</td>\n",
              "      <td>0.0</td>\n",
              "      <td>0.00</td>\n",
              "      <td>0.00</td>\n",
              "      <td>Jan-15</td>\n",
              "      <td>171.62</td>\n",
              "      <td>NaN</td>\n",
              "      <td>May-16</td>\n",
              "      <td>0.0</td>\n",
              "    </tr>\n",
              "    <tr>\n",
              "      <th>1</th>\n",
              "      <td>1077430</td>\n",
              "      <td>1314167</td>\n",
              "      <td>2500</td>\n",
              "      <td>2500</td>\n",
              "      <td>2500.0</td>\n",
              "      <td>60 months</td>\n",
              "      <td>15.27%</td>\n",
              "      <td>59.83</td>\n",
              "      <td>C</td>\n",
              "      <td>C4</td>\n",
              "      <td>...</td>\n",
              "      <td>456.46</td>\n",
              "      <td>435.17</td>\n",
              "      <td>0.0</td>\n",
              "      <td>117.08</td>\n",
              "      <td>1.11</td>\n",
              "      <td>Apr-13</td>\n",
              "      <td>119.66</td>\n",
              "      <td>NaN</td>\n",
              "      <td>Sep-13</td>\n",
              "      <td>0.0</td>\n",
              "    </tr>\n",
              "    <tr>\n",
              "      <th>2</th>\n",
              "      <td>1077175</td>\n",
              "      <td>1313524</td>\n",
              "      <td>2400</td>\n",
              "      <td>2400</td>\n",
              "      <td>2400.0</td>\n",
              "      <td>36 months</td>\n",
              "      <td>15.96%</td>\n",
              "      <td>84.33</td>\n",
              "      <td>C</td>\n",
              "      <td>C5</td>\n",
              "      <td>...</td>\n",
              "      <td>2400.00</td>\n",
              "      <td>605.67</td>\n",
              "      <td>0.0</td>\n",
              "      <td>0.00</td>\n",
              "      <td>0.00</td>\n",
              "      <td>Jun-14</td>\n",
              "      <td>649.91</td>\n",
              "      <td>NaN</td>\n",
              "      <td>May-16</td>\n",
              "      <td>0.0</td>\n",
              "    </tr>\n",
              "  </tbody>\n",
              "</table>\n",
              "<p>3 rows × 50 columns</p>\n",
              "</div>\n",
              "    <div class=\"colab-df-buttons\">\n",
              "\n",
              "  <div class=\"colab-df-container\">\n",
              "    <button class=\"colab-df-convert\" onclick=\"convertToInteractive('df-433e636d-1e84-4095-ac53-7a84d477119f')\"\n",
              "            title=\"Convert this dataframe to an interactive table.\"\n",
              "            style=\"display:none;\">\n",
              "\n",
              "  <svg xmlns=\"http://www.w3.org/2000/svg\" height=\"24px\" viewBox=\"0 -960 960 960\">\n",
              "    <path d=\"M120-120v-720h720v720H120Zm60-500h600v-160H180v160Zm220 220h160v-160H400v160Zm0 220h160v-160H400v160ZM180-400h160v-160H180v160Zm440 0h160v-160H620v160ZM180-180h160v-160H180v160Zm440 0h160v-160H620v160Z\"/>\n",
              "  </svg>\n",
              "    </button>\n",
              "\n",
              "  <style>\n",
              "    .colab-df-container {\n",
              "      display:flex;\n",
              "      gap: 12px;\n",
              "    }\n",
              "\n",
              "    .colab-df-convert {\n",
              "      background-color: #E8F0FE;\n",
              "      border: none;\n",
              "      border-radius: 50%;\n",
              "      cursor: pointer;\n",
              "      display: none;\n",
              "      fill: #1967D2;\n",
              "      height: 32px;\n",
              "      padding: 0 0 0 0;\n",
              "      width: 32px;\n",
              "    }\n",
              "\n",
              "    .colab-df-convert:hover {\n",
              "      background-color: #E2EBFA;\n",
              "      box-shadow: 0px 1px 2px rgba(60, 64, 67, 0.3), 0px 1px 3px 1px rgba(60, 64, 67, 0.15);\n",
              "      fill: #174EA6;\n",
              "    }\n",
              "\n",
              "    .colab-df-buttons div {\n",
              "      margin-bottom: 4px;\n",
              "    }\n",
              "\n",
              "    [theme=dark] .colab-df-convert {\n",
              "      background-color: #3B4455;\n",
              "      fill: #D2E3FC;\n",
              "    }\n",
              "\n",
              "    [theme=dark] .colab-df-convert:hover {\n",
              "      background-color: #434B5C;\n",
              "      box-shadow: 0px 1px 3px 1px rgba(0, 0, 0, 0.15);\n",
              "      filter: drop-shadow(0px 1px 2px rgba(0, 0, 0, 0.3));\n",
              "      fill: #FFFFFF;\n",
              "    }\n",
              "  </style>\n",
              "\n",
              "    <script>\n",
              "      const buttonEl =\n",
              "        document.querySelector('#df-433e636d-1e84-4095-ac53-7a84d477119f button.colab-df-convert');\n",
              "      buttonEl.style.display =\n",
              "        google.colab.kernel.accessAllowed ? 'block' : 'none';\n",
              "\n",
              "      async function convertToInteractive(key) {\n",
              "        const element = document.querySelector('#df-433e636d-1e84-4095-ac53-7a84d477119f');\n",
              "        const dataTable =\n",
              "          await google.colab.kernel.invokeFunction('convertToInteractive',\n",
              "                                                    [key], {});\n",
              "        if (!dataTable) return;\n",
              "\n",
              "        const docLinkHtml = 'Like what you see? Visit the ' +\n",
              "          '<a target=\"_blank\" href=https://colab.research.google.com/notebooks/data_table.ipynb>data table notebook</a>'\n",
              "          + ' to learn more about interactive tables.';\n",
              "        element.innerHTML = '';\n",
              "        dataTable['output_type'] = 'display_data';\n",
              "        await google.colab.output.renderOutput(dataTable, element);\n",
              "        const docLink = document.createElement('div');\n",
              "        docLink.innerHTML = docLinkHtml;\n",
              "        element.appendChild(docLink);\n",
              "      }\n",
              "    </script>\n",
              "  </div>\n",
              "\n",
              "\n",
              "<div id=\"df-9b967631-27eb-4a67-9e37-4042c4bab9b6\">\n",
              "  <button class=\"colab-df-quickchart\" onclick=\"quickchart('df-9b967631-27eb-4a67-9e37-4042c4bab9b6')\"\n",
              "            title=\"Suggest charts\"\n",
              "            style=\"display:none;\">\n",
              "\n",
              "<svg xmlns=\"http://www.w3.org/2000/svg\" height=\"24px\"viewBox=\"0 0 24 24\"\n",
              "     width=\"24px\">\n",
              "    <g>\n",
              "        <path d=\"M19 3H5c-1.1 0-2 .9-2 2v14c0 1.1.9 2 2 2h14c1.1 0 2-.9 2-2V5c0-1.1-.9-2-2-2zM9 17H7v-7h2v7zm4 0h-2V7h2v10zm4 0h-2v-4h2v4z\"/>\n",
              "    </g>\n",
              "</svg>\n",
              "  </button>\n",
              "\n",
              "<style>\n",
              "  .colab-df-quickchart {\n",
              "      --bg-color: #E8F0FE;\n",
              "      --fill-color: #1967D2;\n",
              "      --hover-bg-color: #E2EBFA;\n",
              "      --hover-fill-color: #174EA6;\n",
              "      --disabled-fill-color: #AAA;\n",
              "      --disabled-bg-color: #DDD;\n",
              "  }\n",
              "\n",
              "  [theme=dark] .colab-df-quickchart {\n",
              "      --bg-color: #3B4455;\n",
              "      --fill-color: #D2E3FC;\n",
              "      --hover-bg-color: #434B5C;\n",
              "      --hover-fill-color: #FFFFFF;\n",
              "      --disabled-bg-color: #3B4455;\n",
              "      --disabled-fill-color: #666;\n",
              "  }\n",
              "\n",
              "  .colab-df-quickchart {\n",
              "    background-color: var(--bg-color);\n",
              "    border: none;\n",
              "    border-radius: 50%;\n",
              "    cursor: pointer;\n",
              "    display: none;\n",
              "    fill: var(--fill-color);\n",
              "    height: 32px;\n",
              "    padding: 0;\n",
              "    width: 32px;\n",
              "  }\n",
              "\n",
              "  .colab-df-quickchart:hover {\n",
              "    background-color: var(--hover-bg-color);\n",
              "    box-shadow: 0 1px 2px rgba(60, 64, 67, 0.3), 0 1px 3px 1px rgba(60, 64, 67, 0.15);\n",
              "    fill: var(--button-hover-fill-color);\n",
              "  }\n",
              "\n",
              "  .colab-df-quickchart-complete:disabled,\n",
              "  .colab-df-quickchart-complete:disabled:hover {\n",
              "    background-color: var(--disabled-bg-color);\n",
              "    fill: var(--disabled-fill-color);\n",
              "    box-shadow: none;\n",
              "  }\n",
              "\n",
              "  .colab-df-spinner {\n",
              "    border: 2px solid var(--fill-color);\n",
              "    border-color: transparent;\n",
              "    border-bottom-color: var(--fill-color);\n",
              "    animation:\n",
              "      spin 1s steps(1) infinite;\n",
              "  }\n",
              "\n",
              "  @keyframes spin {\n",
              "    0% {\n",
              "      border-color: transparent;\n",
              "      border-bottom-color: var(--fill-color);\n",
              "      border-left-color: var(--fill-color);\n",
              "    }\n",
              "    20% {\n",
              "      border-color: transparent;\n",
              "      border-left-color: var(--fill-color);\n",
              "      border-top-color: var(--fill-color);\n",
              "    }\n",
              "    30% {\n",
              "      border-color: transparent;\n",
              "      border-left-color: var(--fill-color);\n",
              "      border-top-color: var(--fill-color);\n",
              "      border-right-color: var(--fill-color);\n",
              "    }\n",
              "    40% {\n",
              "      border-color: transparent;\n",
              "      border-right-color: var(--fill-color);\n",
              "      border-top-color: var(--fill-color);\n",
              "    }\n",
              "    60% {\n",
              "      border-color: transparent;\n",
              "      border-right-color: var(--fill-color);\n",
              "    }\n",
              "    80% {\n",
              "      border-color: transparent;\n",
              "      border-right-color: var(--fill-color);\n",
              "      border-bottom-color: var(--fill-color);\n",
              "    }\n",
              "    90% {\n",
              "      border-color: transparent;\n",
              "      border-bottom-color: var(--fill-color);\n",
              "    }\n",
              "  }\n",
              "</style>\n",
              "\n",
              "  <script>\n",
              "    async function quickchart(key) {\n",
              "      const quickchartButtonEl =\n",
              "        document.querySelector('#' + key + ' button');\n",
              "      quickchartButtonEl.disabled = true;  // To prevent multiple clicks.\n",
              "      quickchartButtonEl.classList.add('colab-df-spinner');\n",
              "      try {\n",
              "        const charts = await google.colab.kernel.invokeFunction(\n",
              "            'suggestCharts', [key], {});\n",
              "      } catch (error) {\n",
              "        console.error('Error during call to suggestCharts:', error);\n",
              "      }\n",
              "      quickchartButtonEl.classList.remove('colab-df-spinner');\n",
              "      quickchartButtonEl.classList.add('colab-df-quickchart-complete');\n",
              "    }\n",
              "    (() => {\n",
              "      let quickchartButtonEl =\n",
              "        document.querySelector('#df-9b967631-27eb-4a67-9e37-4042c4bab9b6 button');\n",
              "      quickchartButtonEl.style.display =\n",
              "        google.colab.kernel.accessAllowed ? 'block' : 'none';\n",
              "    })();\n",
              "  </script>\n",
              "</div>\n",
              "\n",
              "    </div>\n",
              "  </div>\n"
            ],
            "text/plain": [
              "        id  member_id  loan_amnt  funded_amnt  funded_amnt_inv        term  \\\n",
              "0  1077501    1296599       5000         5000           4975.0   36 months   \n",
              "1  1077430    1314167       2500         2500           2500.0   60 months   \n",
              "2  1077175    1313524       2400         2400           2400.0   36 months   \n",
              "\n",
              "  int_rate  installment grade sub_grade  ... total_rec_prncp  total_rec_int  \\\n",
              "0   10.65%       162.87     B        B2  ...         5000.00         863.16   \n",
              "1   15.27%        59.83     C        C4  ...          456.46         435.17   \n",
              "2   15.96%        84.33     C        C5  ...         2400.00         605.67   \n",
              "\n",
              "  total_rec_late_fee  recoveries collection_recovery_fee last_pymnt_d  \\\n",
              "0                0.0        0.00                    0.00       Jan-15   \n",
              "1                0.0      117.08                    1.11       Apr-13   \n",
              "2                0.0        0.00                    0.00       Jun-14   \n",
              "\n",
              "  last_pymnt_amnt next_pymnt_d last_credit_pull_d collections_12_mths_ex_med  \n",
              "0          171.62          NaN             May-16                        0.0  \n",
              "1          119.66          NaN             Sep-13                        0.0  \n",
              "2          649.91          NaN             May-16                        0.0  \n",
              "\n",
              "[3 rows x 50 columns]"
            ]
          },
          "execution_count": 113,
          "metadata": {},
          "output_type": "execute_result"
        }
      ],
      "source": [
        "df1.head(3)"
      ]
    },
    {
      "cell_type": "code",
      "execution_count": 114,
      "metadata": {
        "colab": {
          "base_uri": "https://localhost:8080/"
        },
        "id": "UOauokP6lncj",
        "outputId": "7964bbe2-5bc4-4f03-dd0e-84ff502d7b81"
      },
      "outputs": [
        {
          "data": {
            "text/plain": [
              "Index(['id', 'member_id', 'loan_amnt', 'funded_amnt', 'funded_amnt_inv',\n",
              "       'term', 'int_rate', 'installment', 'grade', 'sub_grade', 'emp_title',\n",
              "       'emp_length', 'home_ownership', 'annual_inc', 'verification_status',\n",
              "       'issue_d', 'loan_status', 'pymnt_plan', 'url', 'desc', 'purpose',\n",
              "       'title', 'zip_code', 'addr_state', 'dti', 'delinq_2yrs',\n",
              "       'earliest_cr_line', 'inq_last_6mths', 'mths_since_last_delinq',\n",
              "       'mths_since_last_record', 'open_acc', 'pub_rec', 'revol_bal',\n",
              "       'revol_util', 'total_acc', 'initial_list_status', 'out_prncp',\n",
              "       'out_prncp_inv', 'total_pymnt', 'total_pymnt_inv', 'total_rec_prncp',\n",
              "       'total_rec_int', 'total_rec_late_fee', 'recoveries',\n",
              "       'collection_recovery_fee', 'last_pymnt_d', 'last_pymnt_amnt',\n",
              "       'next_pymnt_d', 'last_credit_pull_d', 'collections_12_mths_ex_med'],\n",
              "      dtype='object')"
            ]
          },
          "execution_count": 114,
          "metadata": {},
          "output_type": "execute_result"
        }
      ],
      "source": [
        "df1.columns"
      ]
    },
    {
      "cell_type": "code",
      "execution_count": null,
      "metadata": {
        "id": "CAxF1UeJkzn_"
      },
      "outputs": [],
      "source": [
        "#Segmentatoin half done\n",
        "\n",
        "\n",
        "cat_cols=[ 'grade', 'sub_grade','home_ownership', 'verification_status',\n",
        "       'issue_d', 'loan_status', 'pymnt_plan','zip_code', 'addr_state','open_acc', 'pub_rec',]\n",
        "num_cols=['loan_amnt','funded_amnt','funded_amnt_inv', 'term', 'int_rate', 'installment','emp_length',  'annual_inc','dti', 'delinq_2yrs','inq_last_6mths', 'mths_since_last_delinq',\n",
        "       'mths_since_last_record', 'revol_bal',\n",
        "       'revol_util', 'total_acc','out_prncp',\n",
        "       'out_prncp_inv', 'total_pymnt', 'total_pymnt_inv', 'total_rec_prncp',\n",
        "       'total_rec_int', 'total_rec_late_fee', 'recoveries',\n",
        "       'collection_recovery_fee', ]\n",
        "extra_cols=['id', 'member_id', , ,\n",
        "       'emp_title',\n",
        "        'url', 'desc', 'purpose',\n",
        "       'title',\n",
        "       'earliest_cr_line',   'initial_list_status', 'last_pymnt_d', 'last_pymnt_amnt',\n",
        "       'next_pymnt_d', 'last_credit_pull_d', 'collections_12_mths_ex_med']"
      ]
    },
    {
      "cell_type": "markdown",
      "metadata": {
        "id": "Zrp6858BJDXv"
      },
      "source": [
        "## **Bivariate Analysis**\n",
        "\n",
        "* Identify the pairs of columns to be Analyzed\n",
        "* Generate cattered plots plots and identify the dependency\n"
      ]
    },
    {
      "cell_type": "markdown",
      "metadata": {
        "id": "2bcRToJQJUwH"
      },
      "source": [
        "## **Multivariate Analysis**\n",
        "\n",
        "## For all Numeric columns plot a heat map and identify the corelation\n",
        "\n",
        "\n",
        "* *Correlation represents strength of relationship between variables*\n",
        "* *Correlation lies in the range of -1 to 1*\n",
        "* *Negative correlation  (0 to -1) shows inverse relationship*\n",
        "* *Positive correlation (0 to 1) shows direct relationship*\n",
        "* *0 correlation represents no relationship. *italicized text*"
      ]
    },
    {
      "cell_type": "markdown",
      "metadata": {
        "id": "TDDXwJqjLAZ4"
      },
      "source": [
        "## Univariate Analysis --> Analysis with Single variable\n",
        "--> Mean, Median, Max, Min, Std, Variance, Count\n",
        "--> Distribution (Histogram,Distplot,Countplot,boxplot)\n",
        "## Bivaraite Analsyis --> Analysis with two variables\n",
        "--> Relationship between two variables (Scatterplot, boxplot,barplot etc)\n",
        "## Multivariate Analysis\n",
        "--> Relationship between more than variables (Heatmap etc)"
      ]
    }
  ],
  "metadata": {
    "colab": {
      "provenance": [],
      "toc_visible": true
    },
    "kernelspec": {
      "display_name": "Python 3",
      "name": "python3"
    },
    "language_info": {
      "name": "python"
    }
  },
  "nbformat": 4,
  "nbformat_minor": 0
}
