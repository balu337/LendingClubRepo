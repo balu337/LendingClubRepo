{
  "nbformat": 4,
  "nbformat_minor": 0,
  "metadata": {
    "colab": {
      "provenance": [],
      "toc_visible": true,
      "include_colab_link": true
    },
    "kernelspec": {
      "name": "python3",
      "display_name": "Python 3"
    },
    "language_info": {
      "name": "python"
    }
  },
  "cells": [
    {
      "cell_type": "markdown",
      "metadata": {
        "id": "view-in-github",
        "colab_type": "text"
      },
      "source": [
        "<a href=\"https://colab.research.google.com/github/balu337/LendingClubRepo/blob/master/LC_v1.ipynb\" target=\"_parent\"><img src=\"https://colab.research.google.com/assets/colab-badge.svg\" alt=\"Open In Colab\"/></a>"
      ]
    },
    {
      "cell_type": "markdown",
      "source": [
        "## **ImportStatments**"
      ],
      "metadata": {
        "id": "8mKKWCDAJl63"
      }
    },
    {
      "cell_type": "code",
      "source": [
        "# Numerical and Data Analysis\n",
        "import numpy as np\n",
        "import pandas as pd\n",
        "\n",
        "# Data Visualization\n",
        "import seaborn as sns\n",
        "import matplotlib.pyplot as plt\n",
        "\n",
        "# Extra\n",
        "import warnings\n",
        "warnings.filterwarnings('ignore')\n",
        "pd.set_option('display.max_rows',200)"
      ],
      "metadata": {
        "id": "3-ctFPQ9KcKq"
      },
      "execution_count": 1,
      "outputs": []
    },
    {
      "cell_type": "code",
      "execution_count": 2,
      "metadata": {
        "id": "6FcfjSDpXEdA",
        "colab": {
          "base_uri": "https://localhost:8080/"
        },
        "outputId": "dcbb904a-bf2a-456a-981a-13c8ea079073"
      },
      "outputs": [
        {
          "output_type": "stream",
          "name": "stdout",
          "text": [
            "Drive already mounted at /content/drive; to attempt to forcibly remount, call drive.mount(\"/content/drive\", force_remount=True).\n"
          ]
        }
      ],
      "source": [
        "from google.colab import drive\n",
        "drive.mount('/content/drive')"
      ]
    },
    {
      "cell_type": "code",
      "source": [
        "filepath=\"/content/drive/MyDrive/IITB_AIML/1_Statistics/LendingClubCaseStudy/loan.csv\"\n",
        "#filepath=\"/content/drive/MyDrive/LendingClub/loan.csv\"\n",
        "\n",
        "\n",
        "df = pd.read_csv(filepath)"
      ],
      "metadata": {
        "id": "vzokbC06KzMo"
      },
      "execution_count": 3,
      "outputs": []
    },
    {
      "cell_type": "markdown",
      "source": [
        "## **Analyze Raw Data**\n",
        "\n",
        "Check column by column using Data Dictionary and get unerstanding the data ( content and type )"
      ],
      "metadata": {
        "id": "6a_SW8nlnoB-"
      }
    },
    {
      "cell_type": "code",
      "source": [
        "#Dataset Shape\n",
        "df.shape"
      ],
      "metadata": {
        "id": "gixPQHEwOSau",
        "outputId": "d64ca927-8614-47fe-b74c-ac0848058a17",
        "colab": {
          "base_uri": "https://localhost:8080/"
        }
      },
      "execution_count": 4,
      "outputs": [
        {
          "output_type": "execute_result",
          "data": {
            "text/plain": [
              "(39717, 111)"
            ]
          },
          "metadata": {},
          "execution_count": 4
        }
      ]
    },
    {
      "cell_type": "code",
      "source": [
        "#Description of dataset\n",
        "df.describe()"
      ],
      "metadata": {
        "id": "zqegu4nMO5Cj",
        "outputId": "f6502223-4bc8-4e1e-eb22-a8fd1e7360fa",
        "colab": {
          "base_uri": "https://localhost:8080/",
          "height": 329
        }
      },
      "execution_count": 5,
      "outputs": [
        {
          "output_type": "execute_result",
          "data": {
            "text/plain": [
              "                 id     member_id     loan_amnt   funded_amnt  \\\n",
              "count  3.971700e+04  3.971700e+04  39717.000000  39717.000000   \n",
              "mean   6.831319e+05  8.504636e+05  11219.443815  10947.713196   \n",
              "std    2.106941e+05  2.656783e+05   7456.670694   7187.238670   \n",
              "min    5.473400e+04  7.069900e+04    500.000000    500.000000   \n",
              "25%    5.162210e+05  6.667800e+05   5500.000000   5400.000000   \n",
              "50%    6.656650e+05  8.508120e+05  10000.000000   9600.000000   \n",
              "75%    8.377550e+05  1.047339e+06  15000.000000  15000.000000   \n",
              "max    1.077501e+06  1.314167e+06  35000.000000  35000.000000   \n",
              "\n",
              "       funded_amnt_inv   installment    annual_inc           dti  \\\n",
              "count     39717.000000  39717.000000  3.971700e+04  39717.000000   \n",
              "mean      10397.448868    324.561922  6.896893e+04     13.315130   \n",
              "std        7128.450439    208.874874  6.379377e+04      6.678594   \n",
              "min           0.000000     15.690000  4.000000e+03      0.000000   \n",
              "25%        5000.000000    167.020000  4.040400e+04      8.170000   \n",
              "50%        8975.000000    280.220000  5.900000e+04     13.400000   \n",
              "75%       14400.000000    430.780000  8.230000e+04     18.600000   \n",
              "max       35000.000000   1305.190000  6.000000e+06     29.990000   \n",
              "\n",
              "        delinq_2yrs  inq_last_6mths  ...  num_tl_90g_dpd_24m  \\\n",
              "count  39717.000000    39717.000000  ...                 0.0   \n",
              "mean       0.146512        0.869200  ...                 NaN   \n",
              "std        0.491812        1.070219  ...                 NaN   \n",
              "min        0.000000        0.000000  ...                 NaN   \n",
              "25%        0.000000        0.000000  ...                 NaN   \n",
              "50%        0.000000        1.000000  ...                 NaN   \n",
              "75%        0.000000        1.000000  ...                 NaN   \n",
              "max       11.000000        8.000000  ...                 NaN   \n",
              "\n",
              "       num_tl_op_past_12m  pct_tl_nvr_dlq  percent_bc_gt_75  \\\n",
              "count                 0.0             0.0               0.0   \n",
              "mean                  NaN             NaN               NaN   \n",
              "std                   NaN             NaN               NaN   \n",
              "min                   NaN             NaN               NaN   \n",
              "25%                   NaN             NaN               NaN   \n",
              "50%                   NaN             NaN               NaN   \n",
              "75%                   NaN             NaN               NaN   \n",
              "max                   NaN             NaN               NaN   \n",
              "\n",
              "       pub_rec_bankruptcies  tax_liens  tot_hi_cred_lim  total_bal_ex_mort  \\\n",
              "count          39020.000000    39678.0              0.0                0.0   \n",
              "mean               0.043260        0.0              NaN                NaN   \n",
              "std                0.204324        0.0              NaN                NaN   \n",
              "min                0.000000        0.0              NaN                NaN   \n",
              "25%                0.000000        0.0              NaN                NaN   \n",
              "50%                0.000000        0.0              NaN                NaN   \n",
              "75%                0.000000        0.0              NaN                NaN   \n",
              "max                2.000000        0.0              NaN                NaN   \n",
              "\n",
              "       total_bc_limit  total_il_high_credit_limit  \n",
              "count             0.0                         0.0  \n",
              "mean              NaN                         NaN  \n",
              "std               NaN                         NaN  \n",
              "min               NaN                         NaN  \n",
              "25%               NaN                         NaN  \n",
              "50%               NaN                         NaN  \n",
              "75%               NaN                         NaN  \n",
              "max               NaN                         NaN  \n",
              "\n",
              "[8 rows x 87 columns]"
            ],
            "text/html": [
              "\n",
              "  <div id=\"df-0dc83243-38ad-4115-8378-10d6a98e32b0\" class=\"colab-df-container\">\n",
              "    <div>\n",
              "<style scoped>\n",
              "    .dataframe tbody tr th:only-of-type {\n",
              "        vertical-align: middle;\n",
              "    }\n",
              "\n",
              "    .dataframe tbody tr th {\n",
              "        vertical-align: top;\n",
              "    }\n",
              "\n",
              "    .dataframe thead th {\n",
              "        text-align: right;\n",
              "    }\n",
              "</style>\n",
              "<table border=\"1\" class=\"dataframe\">\n",
              "  <thead>\n",
              "    <tr style=\"text-align: right;\">\n",
              "      <th></th>\n",
              "      <th>id</th>\n",
              "      <th>member_id</th>\n",
              "      <th>loan_amnt</th>\n",
              "      <th>funded_amnt</th>\n",
              "      <th>funded_amnt_inv</th>\n",
              "      <th>installment</th>\n",
              "      <th>annual_inc</th>\n",
              "      <th>dti</th>\n",
              "      <th>delinq_2yrs</th>\n",
              "      <th>inq_last_6mths</th>\n",
              "      <th>...</th>\n",
              "      <th>num_tl_90g_dpd_24m</th>\n",
              "      <th>num_tl_op_past_12m</th>\n",
              "      <th>pct_tl_nvr_dlq</th>\n",
              "      <th>percent_bc_gt_75</th>\n",
              "      <th>pub_rec_bankruptcies</th>\n",
              "      <th>tax_liens</th>\n",
              "      <th>tot_hi_cred_lim</th>\n",
              "      <th>total_bal_ex_mort</th>\n",
              "      <th>total_bc_limit</th>\n",
              "      <th>total_il_high_credit_limit</th>\n",
              "    </tr>\n",
              "  </thead>\n",
              "  <tbody>\n",
              "    <tr>\n",
              "      <th>count</th>\n",
              "      <td>3.971700e+04</td>\n",
              "      <td>3.971700e+04</td>\n",
              "      <td>39717.000000</td>\n",
              "      <td>39717.000000</td>\n",
              "      <td>39717.000000</td>\n",
              "      <td>39717.000000</td>\n",
              "      <td>3.971700e+04</td>\n",
              "      <td>39717.000000</td>\n",
              "      <td>39717.000000</td>\n",
              "      <td>39717.000000</td>\n",
              "      <td>...</td>\n",
              "      <td>0.0</td>\n",
              "      <td>0.0</td>\n",
              "      <td>0.0</td>\n",
              "      <td>0.0</td>\n",
              "      <td>39020.000000</td>\n",
              "      <td>39678.0</td>\n",
              "      <td>0.0</td>\n",
              "      <td>0.0</td>\n",
              "      <td>0.0</td>\n",
              "      <td>0.0</td>\n",
              "    </tr>\n",
              "    <tr>\n",
              "      <th>mean</th>\n",
              "      <td>6.831319e+05</td>\n",
              "      <td>8.504636e+05</td>\n",
              "      <td>11219.443815</td>\n",
              "      <td>10947.713196</td>\n",
              "      <td>10397.448868</td>\n",
              "      <td>324.561922</td>\n",
              "      <td>6.896893e+04</td>\n",
              "      <td>13.315130</td>\n",
              "      <td>0.146512</td>\n",
              "      <td>0.869200</td>\n",
              "      <td>...</td>\n",
              "      <td>NaN</td>\n",
              "      <td>NaN</td>\n",
              "      <td>NaN</td>\n",
              "      <td>NaN</td>\n",
              "      <td>0.043260</td>\n",
              "      <td>0.0</td>\n",
              "      <td>NaN</td>\n",
              "      <td>NaN</td>\n",
              "      <td>NaN</td>\n",
              "      <td>NaN</td>\n",
              "    </tr>\n",
              "    <tr>\n",
              "      <th>std</th>\n",
              "      <td>2.106941e+05</td>\n",
              "      <td>2.656783e+05</td>\n",
              "      <td>7456.670694</td>\n",
              "      <td>7187.238670</td>\n",
              "      <td>7128.450439</td>\n",
              "      <td>208.874874</td>\n",
              "      <td>6.379377e+04</td>\n",
              "      <td>6.678594</td>\n",
              "      <td>0.491812</td>\n",
              "      <td>1.070219</td>\n",
              "      <td>...</td>\n",
              "      <td>NaN</td>\n",
              "      <td>NaN</td>\n",
              "      <td>NaN</td>\n",
              "      <td>NaN</td>\n",
              "      <td>0.204324</td>\n",
              "      <td>0.0</td>\n",
              "      <td>NaN</td>\n",
              "      <td>NaN</td>\n",
              "      <td>NaN</td>\n",
              "      <td>NaN</td>\n",
              "    </tr>\n",
              "    <tr>\n",
              "      <th>min</th>\n",
              "      <td>5.473400e+04</td>\n",
              "      <td>7.069900e+04</td>\n",
              "      <td>500.000000</td>\n",
              "      <td>500.000000</td>\n",
              "      <td>0.000000</td>\n",
              "      <td>15.690000</td>\n",
              "      <td>4.000000e+03</td>\n",
              "      <td>0.000000</td>\n",
              "      <td>0.000000</td>\n",
              "      <td>0.000000</td>\n",
              "      <td>...</td>\n",
              "      <td>NaN</td>\n",
              "      <td>NaN</td>\n",
              "      <td>NaN</td>\n",
              "      <td>NaN</td>\n",
              "      <td>0.000000</td>\n",
              "      <td>0.0</td>\n",
              "      <td>NaN</td>\n",
              "      <td>NaN</td>\n",
              "      <td>NaN</td>\n",
              "      <td>NaN</td>\n",
              "    </tr>\n",
              "    <tr>\n",
              "      <th>25%</th>\n",
              "      <td>5.162210e+05</td>\n",
              "      <td>6.667800e+05</td>\n",
              "      <td>5500.000000</td>\n",
              "      <td>5400.000000</td>\n",
              "      <td>5000.000000</td>\n",
              "      <td>167.020000</td>\n",
              "      <td>4.040400e+04</td>\n",
              "      <td>8.170000</td>\n",
              "      <td>0.000000</td>\n",
              "      <td>0.000000</td>\n",
              "      <td>...</td>\n",
              "      <td>NaN</td>\n",
              "      <td>NaN</td>\n",
              "      <td>NaN</td>\n",
              "      <td>NaN</td>\n",
              "      <td>0.000000</td>\n",
              "      <td>0.0</td>\n",
              "      <td>NaN</td>\n",
              "      <td>NaN</td>\n",
              "      <td>NaN</td>\n",
              "      <td>NaN</td>\n",
              "    </tr>\n",
              "    <tr>\n",
              "      <th>50%</th>\n",
              "      <td>6.656650e+05</td>\n",
              "      <td>8.508120e+05</td>\n",
              "      <td>10000.000000</td>\n",
              "      <td>9600.000000</td>\n",
              "      <td>8975.000000</td>\n",
              "      <td>280.220000</td>\n",
              "      <td>5.900000e+04</td>\n",
              "      <td>13.400000</td>\n",
              "      <td>0.000000</td>\n",
              "      <td>1.000000</td>\n",
              "      <td>...</td>\n",
              "      <td>NaN</td>\n",
              "      <td>NaN</td>\n",
              "      <td>NaN</td>\n",
              "      <td>NaN</td>\n",
              "      <td>0.000000</td>\n",
              "      <td>0.0</td>\n",
              "      <td>NaN</td>\n",
              "      <td>NaN</td>\n",
              "      <td>NaN</td>\n",
              "      <td>NaN</td>\n",
              "    </tr>\n",
              "    <tr>\n",
              "      <th>75%</th>\n",
              "      <td>8.377550e+05</td>\n",
              "      <td>1.047339e+06</td>\n",
              "      <td>15000.000000</td>\n",
              "      <td>15000.000000</td>\n",
              "      <td>14400.000000</td>\n",
              "      <td>430.780000</td>\n",
              "      <td>8.230000e+04</td>\n",
              "      <td>18.600000</td>\n",
              "      <td>0.000000</td>\n",
              "      <td>1.000000</td>\n",
              "      <td>...</td>\n",
              "      <td>NaN</td>\n",
              "      <td>NaN</td>\n",
              "      <td>NaN</td>\n",
              "      <td>NaN</td>\n",
              "      <td>0.000000</td>\n",
              "      <td>0.0</td>\n",
              "      <td>NaN</td>\n",
              "      <td>NaN</td>\n",
              "      <td>NaN</td>\n",
              "      <td>NaN</td>\n",
              "    </tr>\n",
              "    <tr>\n",
              "      <th>max</th>\n",
              "      <td>1.077501e+06</td>\n",
              "      <td>1.314167e+06</td>\n",
              "      <td>35000.000000</td>\n",
              "      <td>35000.000000</td>\n",
              "      <td>35000.000000</td>\n",
              "      <td>1305.190000</td>\n",
              "      <td>6.000000e+06</td>\n",
              "      <td>29.990000</td>\n",
              "      <td>11.000000</td>\n",
              "      <td>8.000000</td>\n",
              "      <td>...</td>\n",
              "      <td>NaN</td>\n",
              "      <td>NaN</td>\n",
              "      <td>NaN</td>\n",
              "      <td>NaN</td>\n",
              "      <td>2.000000</td>\n",
              "      <td>0.0</td>\n",
              "      <td>NaN</td>\n",
              "      <td>NaN</td>\n",
              "      <td>NaN</td>\n",
              "      <td>NaN</td>\n",
              "    </tr>\n",
              "  </tbody>\n",
              "</table>\n",
              "<p>8 rows × 87 columns</p>\n",
              "</div>\n",
              "    <div class=\"colab-df-buttons\">\n",
              "\n",
              "  <div class=\"colab-df-container\">\n",
              "    <button class=\"colab-df-convert\" onclick=\"convertToInteractive('df-0dc83243-38ad-4115-8378-10d6a98e32b0')\"\n",
              "            title=\"Convert this dataframe to an interactive table.\"\n",
              "            style=\"display:none;\">\n",
              "\n",
              "  <svg xmlns=\"http://www.w3.org/2000/svg\" height=\"24px\" viewBox=\"0 -960 960 960\">\n",
              "    <path d=\"M120-120v-720h720v720H120Zm60-500h600v-160H180v160Zm220 220h160v-160H400v160Zm0 220h160v-160H400v160ZM180-400h160v-160H180v160Zm440 0h160v-160H620v160ZM180-180h160v-160H180v160Zm440 0h160v-160H620v160Z\"/>\n",
              "  </svg>\n",
              "    </button>\n",
              "\n",
              "  <style>\n",
              "    .colab-df-container {\n",
              "      display:flex;\n",
              "      gap: 12px;\n",
              "    }\n",
              "\n",
              "    .colab-df-convert {\n",
              "      background-color: #E8F0FE;\n",
              "      border: none;\n",
              "      border-radius: 50%;\n",
              "      cursor: pointer;\n",
              "      display: none;\n",
              "      fill: #1967D2;\n",
              "      height: 32px;\n",
              "      padding: 0 0 0 0;\n",
              "      width: 32px;\n",
              "    }\n",
              "\n",
              "    .colab-df-convert:hover {\n",
              "      background-color: #E2EBFA;\n",
              "      box-shadow: 0px 1px 2px rgba(60, 64, 67, 0.3), 0px 1px 3px 1px rgba(60, 64, 67, 0.15);\n",
              "      fill: #174EA6;\n",
              "    }\n",
              "\n",
              "    .colab-df-buttons div {\n",
              "      margin-bottom: 4px;\n",
              "    }\n",
              "\n",
              "    [theme=dark] .colab-df-convert {\n",
              "      background-color: #3B4455;\n",
              "      fill: #D2E3FC;\n",
              "    }\n",
              "\n",
              "    [theme=dark] .colab-df-convert:hover {\n",
              "      background-color: #434B5C;\n",
              "      box-shadow: 0px 1px 3px 1px rgba(0, 0, 0, 0.15);\n",
              "      filter: drop-shadow(0px 1px 2px rgba(0, 0, 0, 0.3));\n",
              "      fill: #FFFFFF;\n",
              "    }\n",
              "  </style>\n",
              "\n",
              "    <script>\n",
              "      const buttonEl =\n",
              "        document.querySelector('#df-0dc83243-38ad-4115-8378-10d6a98e32b0 button.colab-df-convert');\n",
              "      buttonEl.style.display =\n",
              "        google.colab.kernel.accessAllowed ? 'block' : 'none';\n",
              "\n",
              "      async function convertToInteractive(key) {\n",
              "        const element = document.querySelector('#df-0dc83243-38ad-4115-8378-10d6a98e32b0');\n",
              "        const dataTable =\n",
              "          await google.colab.kernel.invokeFunction('convertToInteractive',\n",
              "                                                    [key], {});\n",
              "        if (!dataTable) return;\n",
              "\n",
              "        const docLinkHtml = 'Like what you see? Visit the ' +\n",
              "          '<a target=\"_blank\" href=https://colab.research.google.com/notebooks/data_table.ipynb>data table notebook</a>'\n",
              "          + ' to learn more about interactive tables.';\n",
              "        element.innerHTML = '';\n",
              "        dataTable['output_type'] = 'display_data';\n",
              "        await google.colab.output.renderOutput(dataTable, element);\n",
              "        const docLink = document.createElement('div');\n",
              "        docLink.innerHTML = docLinkHtml;\n",
              "        element.appendChild(docLink);\n",
              "      }\n",
              "    </script>\n",
              "  </div>\n",
              "\n",
              "\n",
              "<div id=\"df-609fbaba-555a-4e7d-b6bd-dd98b4bfb27b\">\n",
              "  <button class=\"colab-df-quickchart\" onclick=\"quickchart('df-609fbaba-555a-4e7d-b6bd-dd98b4bfb27b')\"\n",
              "            title=\"Suggest charts\"\n",
              "            style=\"display:none;\">\n",
              "\n",
              "<svg xmlns=\"http://www.w3.org/2000/svg\" height=\"24px\"viewBox=\"0 0 24 24\"\n",
              "     width=\"24px\">\n",
              "    <g>\n",
              "        <path d=\"M19 3H5c-1.1 0-2 .9-2 2v14c0 1.1.9 2 2 2h14c1.1 0 2-.9 2-2V5c0-1.1-.9-2-2-2zM9 17H7v-7h2v7zm4 0h-2V7h2v10zm4 0h-2v-4h2v4z\"/>\n",
              "    </g>\n",
              "</svg>\n",
              "  </button>\n",
              "\n",
              "<style>\n",
              "  .colab-df-quickchart {\n",
              "      --bg-color: #E8F0FE;\n",
              "      --fill-color: #1967D2;\n",
              "      --hover-bg-color: #E2EBFA;\n",
              "      --hover-fill-color: #174EA6;\n",
              "      --disabled-fill-color: #AAA;\n",
              "      --disabled-bg-color: #DDD;\n",
              "  }\n",
              "\n",
              "  [theme=dark] .colab-df-quickchart {\n",
              "      --bg-color: #3B4455;\n",
              "      --fill-color: #D2E3FC;\n",
              "      --hover-bg-color: #434B5C;\n",
              "      --hover-fill-color: #FFFFFF;\n",
              "      --disabled-bg-color: #3B4455;\n",
              "      --disabled-fill-color: #666;\n",
              "  }\n",
              "\n",
              "  .colab-df-quickchart {\n",
              "    background-color: var(--bg-color);\n",
              "    border: none;\n",
              "    border-radius: 50%;\n",
              "    cursor: pointer;\n",
              "    display: none;\n",
              "    fill: var(--fill-color);\n",
              "    height: 32px;\n",
              "    padding: 0;\n",
              "    width: 32px;\n",
              "  }\n",
              "\n",
              "  .colab-df-quickchart:hover {\n",
              "    background-color: var(--hover-bg-color);\n",
              "    box-shadow: 0 1px 2px rgba(60, 64, 67, 0.3), 0 1px 3px 1px rgba(60, 64, 67, 0.15);\n",
              "    fill: var(--button-hover-fill-color);\n",
              "  }\n",
              "\n",
              "  .colab-df-quickchart-complete:disabled,\n",
              "  .colab-df-quickchart-complete:disabled:hover {\n",
              "    background-color: var(--disabled-bg-color);\n",
              "    fill: var(--disabled-fill-color);\n",
              "    box-shadow: none;\n",
              "  }\n",
              "\n",
              "  .colab-df-spinner {\n",
              "    border: 2px solid var(--fill-color);\n",
              "    border-color: transparent;\n",
              "    border-bottom-color: var(--fill-color);\n",
              "    animation:\n",
              "      spin 1s steps(1) infinite;\n",
              "  }\n",
              "\n",
              "  @keyframes spin {\n",
              "    0% {\n",
              "      border-color: transparent;\n",
              "      border-bottom-color: var(--fill-color);\n",
              "      border-left-color: var(--fill-color);\n",
              "    }\n",
              "    20% {\n",
              "      border-color: transparent;\n",
              "      border-left-color: var(--fill-color);\n",
              "      border-top-color: var(--fill-color);\n",
              "    }\n",
              "    30% {\n",
              "      border-color: transparent;\n",
              "      border-left-color: var(--fill-color);\n",
              "      border-top-color: var(--fill-color);\n",
              "      border-right-color: var(--fill-color);\n",
              "    }\n",
              "    40% {\n",
              "      border-color: transparent;\n",
              "      border-right-color: var(--fill-color);\n",
              "      border-top-color: var(--fill-color);\n",
              "    }\n",
              "    60% {\n",
              "      border-color: transparent;\n",
              "      border-right-color: var(--fill-color);\n",
              "    }\n",
              "    80% {\n",
              "      border-color: transparent;\n",
              "      border-right-color: var(--fill-color);\n",
              "      border-bottom-color: var(--fill-color);\n",
              "    }\n",
              "    90% {\n",
              "      border-color: transparent;\n",
              "      border-bottom-color: var(--fill-color);\n",
              "    }\n",
              "  }\n",
              "</style>\n",
              "\n",
              "  <script>\n",
              "    async function quickchart(key) {\n",
              "      const quickchartButtonEl =\n",
              "        document.querySelector('#' + key + ' button');\n",
              "      quickchartButtonEl.disabled = true;  // To prevent multiple clicks.\n",
              "      quickchartButtonEl.classList.add('colab-df-spinner');\n",
              "      try {\n",
              "        const charts = await google.colab.kernel.invokeFunction(\n",
              "            'suggestCharts', [key], {});\n",
              "      } catch (error) {\n",
              "        console.error('Error during call to suggestCharts:', error);\n",
              "      }\n",
              "      quickchartButtonEl.classList.remove('colab-df-spinner');\n",
              "      quickchartButtonEl.classList.add('colab-df-quickchart-complete');\n",
              "    }\n",
              "    (() => {\n",
              "      let quickchartButtonEl =\n",
              "        document.querySelector('#df-609fbaba-555a-4e7d-b6bd-dd98b4bfb27b button');\n",
              "      quickchartButtonEl.style.display =\n",
              "        google.colab.kernel.accessAllowed ? 'block' : 'none';\n",
              "    })();\n",
              "  </script>\n",
              "</div>\n",
              "\n",
              "    </div>\n",
              "  </div>\n"
            ],
            "application/vnd.google.colaboratory.intrinsic+json": {
              "type": "dataframe"
            }
          },
          "metadata": {},
          "execution_count": 5
        }
      ]
    },
    {
      "cell_type": "code",
      "source": [
        "#Display information about dataset\n",
        "df.info()"
      ],
      "metadata": {
        "id": "h0CpjF0OcVfy",
        "outputId": "43caddcc-42df-4513-8f9a-2a2103a627e2",
        "colab": {
          "base_uri": "https://localhost:8080/"
        }
      },
      "execution_count": 6,
      "outputs": [
        {
          "output_type": "stream",
          "name": "stdout",
          "text": [
            "<class 'pandas.core.frame.DataFrame'>\n",
            "RangeIndex: 39717 entries, 0 to 39716\n",
            "Columns: 111 entries, id to total_il_high_credit_limit\n",
            "dtypes: float64(74), int64(13), object(24)\n",
            "memory usage: 33.6+ MB\n"
          ]
        }
      ]
    },
    {
      "cell_type": "code",
      "source": [
        "#Find datatypes of columns\n",
        "df.dtypes"
      ],
      "metadata": {
        "id": "CI0prZOacZ6I",
        "outputId": "6d02976e-8e6a-476b-8e17-3d8b7b9f0a51",
        "colab": {
          "base_uri": "https://localhost:8080/"
        }
      },
      "execution_count": 7,
      "outputs": [
        {
          "output_type": "execute_result",
          "data": {
            "text/plain": [
              "id                                  int64\n",
              "member_id                           int64\n",
              "loan_amnt                           int64\n",
              "funded_amnt                         int64\n",
              "funded_amnt_inv                   float64\n",
              "term                               object\n",
              "int_rate                           object\n",
              "installment                       float64\n",
              "grade                              object\n",
              "sub_grade                          object\n",
              "emp_title                          object\n",
              "emp_length                         object\n",
              "home_ownership                     object\n",
              "annual_inc                        float64\n",
              "verification_status                object\n",
              "issue_d                            object\n",
              "loan_status                        object\n",
              "pymnt_plan                         object\n",
              "url                                object\n",
              "desc                               object\n",
              "purpose                            object\n",
              "title                              object\n",
              "zip_code                           object\n",
              "addr_state                         object\n",
              "dti                               float64\n",
              "delinq_2yrs                         int64\n",
              "earliest_cr_line                   object\n",
              "inq_last_6mths                      int64\n",
              "mths_since_last_delinq            float64\n",
              "mths_since_last_record            float64\n",
              "open_acc                            int64\n",
              "pub_rec                             int64\n",
              "revol_bal                           int64\n",
              "revol_util                         object\n",
              "total_acc                           int64\n",
              "initial_list_status                object\n",
              "out_prncp                         float64\n",
              "out_prncp_inv                     float64\n",
              "total_pymnt                       float64\n",
              "total_pymnt_inv                   float64\n",
              "total_rec_prncp                   float64\n",
              "total_rec_int                     float64\n",
              "total_rec_late_fee                float64\n",
              "recoveries                        float64\n",
              "collection_recovery_fee           float64\n",
              "last_pymnt_d                       object\n",
              "last_pymnt_amnt                   float64\n",
              "next_pymnt_d                       object\n",
              "last_credit_pull_d                 object\n",
              "collections_12_mths_ex_med        float64\n",
              "mths_since_last_major_derog       float64\n",
              "policy_code                         int64\n",
              "application_type                   object\n",
              "annual_inc_joint                  float64\n",
              "dti_joint                         float64\n",
              "verification_status_joint         float64\n",
              "acc_now_delinq                      int64\n",
              "tot_coll_amt                      float64\n",
              "tot_cur_bal                       float64\n",
              "open_acc_6m                       float64\n",
              "open_il_6m                        float64\n",
              "open_il_12m                       float64\n",
              "open_il_24m                       float64\n",
              "mths_since_rcnt_il                float64\n",
              "total_bal_il                      float64\n",
              "il_util                           float64\n",
              "open_rv_12m                       float64\n",
              "open_rv_24m                       float64\n",
              "max_bal_bc                        float64\n",
              "all_util                          float64\n",
              "total_rev_hi_lim                  float64\n",
              "inq_fi                            float64\n",
              "total_cu_tl                       float64\n",
              "inq_last_12m                      float64\n",
              "acc_open_past_24mths              float64\n",
              "avg_cur_bal                       float64\n",
              "bc_open_to_buy                    float64\n",
              "bc_util                           float64\n",
              "chargeoff_within_12_mths          float64\n",
              "delinq_amnt                         int64\n",
              "mo_sin_old_il_acct                float64\n",
              "mo_sin_old_rev_tl_op              float64\n",
              "mo_sin_rcnt_rev_tl_op             float64\n",
              "mo_sin_rcnt_tl                    float64\n",
              "mort_acc                          float64\n",
              "mths_since_recent_bc              float64\n",
              "mths_since_recent_bc_dlq          float64\n",
              "mths_since_recent_inq             float64\n",
              "mths_since_recent_revol_delinq    float64\n",
              "num_accts_ever_120_pd             float64\n",
              "num_actv_bc_tl                    float64\n",
              "num_actv_rev_tl                   float64\n",
              "num_bc_sats                       float64\n",
              "num_bc_tl                         float64\n",
              "num_il_tl                         float64\n",
              "num_op_rev_tl                     float64\n",
              "num_rev_accts                     float64\n",
              "num_rev_tl_bal_gt_0               float64\n",
              "num_sats                          float64\n",
              "num_tl_120dpd_2m                  float64\n",
              "num_tl_30dpd                      float64\n",
              "num_tl_90g_dpd_24m                float64\n",
              "num_tl_op_past_12m                float64\n",
              "pct_tl_nvr_dlq                    float64\n",
              "percent_bc_gt_75                  float64\n",
              "pub_rec_bankruptcies              float64\n",
              "tax_liens                         float64\n",
              "tot_hi_cred_lim                   float64\n",
              "total_bal_ex_mort                 float64\n",
              "total_bc_limit                    float64\n",
              "total_il_high_credit_limit        float64\n",
              "dtype: object"
            ]
          },
          "metadata": {},
          "execution_count": 7
        }
      ]
    },
    {
      "cell_type": "code",
      "source": [
        "#Get All Column Names\n",
        "\n",
        "col= list(df.columns)\n",
        "print(\"# Columns are \", len(col))\n",
        "print(\"Columns are \", col)"
      ],
      "metadata": {
        "id": "CX4QKQ7_Q5aP",
        "outputId": "5ad79f82-944e-49ca-9de6-91133b75b743",
        "colab": {
          "base_uri": "https://localhost:8080/"
        }
      },
      "execution_count": 8,
      "outputs": [
        {
          "output_type": "stream",
          "name": "stdout",
          "text": [
            "# Columns are  111\n",
            "Columns are  ['id', 'member_id', 'loan_amnt', 'funded_amnt', 'funded_amnt_inv', 'term', 'int_rate', 'installment', 'grade', 'sub_grade', 'emp_title', 'emp_length', 'home_ownership', 'annual_inc', 'verification_status', 'issue_d', 'loan_status', 'pymnt_plan', 'url', 'desc', 'purpose', 'title', 'zip_code', 'addr_state', 'dti', 'delinq_2yrs', 'earliest_cr_line', 'inq_last_6mths', 'mths_since_last_delinq', 'mths_since_last_record', 'open_acc', 'pub_rec', 'revol_bal', 'revol_util', 'total_acc', 'initial_list_status', 'out_prncp', 'out_prncp_inv', 'total_pymnt', 'total_pymnt_inv', 'total_rec_prncp', 'total_rec_int', 'total_rec_late_fee', 'recoveries', 'collection_recovery_fee', 'last_pymnt_d', 'last_pymnt_amnt', 'next_pymnt_d', 'last_credit_pull_d', 'collections_12_mths_ex_med', 'mths_since_last_major_derog', 'policy_code', 'application_type', 'annual_inc_joint', 'dti_joint', 'verification_status_joint', 'acc_now_delinq', 'tot_coll_amt', 'tot_cur_bal', 'open_acc_6m', 'open_il_6m', 'open_il_12m', 'open_il_24m', 'mths_since_rcnt_il', 'total_bal_il', 'il_util', 'open_rv_12m', 'open_rv_24m', 'max_bal_bc', 'all_util', 'total_rev_hi_lim', 'inq_fi', 'total_cu_tl', 'inq_last_12m', 'acc_open_past_24mths', 'avg_cur_bal', 'bc_open_to_buy', 'bc_util', 'chargeoff_within_12_mths', 'delinq_amnt', 'mo_sin_old_il_acct', 'mo_sin_old_rev_tl_op', 'mo_sin_rcnt_rev_tl_op', 'mo_sin_rcnt_tl', 'mort_acc', 'mths_since_recent_bc', 'mths_since_recent_bc_dlq', 'mths_since_recent_inq', 'mths_since_recent_revol_delinq', 'num_accts_ever_120_pd', 'num_actv_bc_tl', 'num_actv_rev_tl', 'num_bc_sats', 'num_bc_tl', 'num_il_tl', 'num_op_rev_tl', 'num_rev_accts', 'num_rev_tl_bal_gt_0', 'num_sats', 'num_tl_120dpd_2m', 'num_tl_30dpd', 'num_tl_90g_dpd_24m', 'num_tl_op_past_12m', 'pct_tl_nvr_dlq', 'percent_bc_gt_75', 'pub_rec_bankruptcies', 'tax_liens', 'tot_hi_cred_lim', 'total_bal_ex_mort', 'total_bc_limit', 'total_il_high_credit_limit']\n"
          ]
        }
      ]
    },
    {
      "cell_type": "markdown",
      "source": [
        "### Creating new dataframe for Analysis"
      ],
      "metadata": {
        "id": "Nc03A5Shd2V1"
      }
    },
    {
      "cell_type": "code",
      "source": [
        "#Removing unwanted columns\n",
        "\n",
        "# #After basic analysis columns after [ annual_inc_joint ] are not useful as there is not data.\n",
        "\n",
        "# print(\"-->\",col[53])\n",
        "# columns_removed=col[53:]\n",
        "# print(\"removed col \",columns_removed)\n",
        "# df1=df.drop(columns_removed,axis=1)\n",
        "\n",
        "# Lets drop columns with all null values\n",
        "df1=df.dropna(axis=1, how='all')\n",
        "df1.shape\n",
        "\n"
      ],
      "metadata": {
        "id": "egU8Di7AR2fl",
        "outputId": "768e4671-9bd4-4457-e658-d73be7f53554",
        "colab": {
          "base_uri": "https://localhost:8080/"
        }
      },
      "execution_count": 9,
      "outputs": [
        {
          "output_type": "execute_result",
          "data": {
            "text/plain": [
              "(39717, 57)"
            ]
          },
          "metadata": {},
          "execution_count": 9
        }
      ]
    },
    {
      "cell_type": "code",
      "source": [
        "# If we observe there are few columns have sigle values, those are not helpful for analysis lets drop them\n",
        "\n",
        "#check how many single value columns are there\n",
        "# print((df1.nunique()==1).sum())\n",
        "# print(df1[nunique()==1])\n",
        "un=df1.nunique()==1\n",
        "single_unique_cols = list( un[un].index )\n",
        "print(single_unique_cols)\n",
        "\n"
      ],
      "metadata": {
        "id": "WnkC9NW9dwMc",
        "outputId": "bdd6dc1b-9bb3-4087-c63d-bec220977c18",
        "colab": {
          "base_uri": "https://localhost:8080/"
        }
      },
      "execution_count": 10,
      "outputs": [
        {
          "output_type": "stream",
          "name": "stdout",
          "text": [
            "['pymnt_plan', 'initial_list_status', 'collections_12_mths_ex_med', 'policy_code', 'application_type', 'acc_now_delinq', 'chargeoff_within_12_mths', 'delinq_amnt', 'tax_liens']\n"
          ]
        }
      ]
    },
    {
      "cell_type": "code",
      "source": [
        "df1.drop(columns= single_unique_cols, inplace=True)\n",
        "\n",
        "#Print Shape\n",
        "df1.shape"
      ],
      "metadata": {
        "id": "d15fIa_gwXn4",
        "outputId": "fa9b6a6b-c536-4d8d-893f-8af2f7cd9fd1",
        "colab": {
          "base_uri": "https://localhost:8080/"
        }
      },
      "execution_count": 11,
      "outputs": [
        {
          "output_type": "execute_result",
          "data": {
            "text/plain": [
              "(39717, 48)"
            ]
          },
          "metadata": {},
          "execution_count": 11
        }
      ]
    },
    {
      "cell_type": "code",
      "source": [
        "#Get  Column afte dropping columns after annual_inc_joint\n",
        "\n",
        "col1= list(df1.columns)\n",
        "print(\"# Columns are \", len(col1))\n",
        "print(\"Columns are \", col1)\n",
        "\n",
        "\n"
      ],
      "metadata": {
        "id": "ohSUI_PbS8mI",
        "outputId": "53b6b98f-7065-4e61-848a-2a0ed7714238",
        "colab": {
          "base_uri": "https://localhost:8080/"
        }
      },
      "execution_count": 12,
      "outputs": [
        {
          "output_type": "stream",
          "name": "stdout",
          "text": [
            "# Columns are  48\n",
            "Columns are  ['id', 'member_id', 'loan_amnt', 'funded_amnt', 'funded_amnt_inv', 'term', 'int_rate', 'installment', 'grade', 'sub_grade', 'emp_title', 'emp_length', 'home_ownership', 'annual_inc', 'verification_status', 'issue_d', 'loan_status', 'url', 'desc', 'purpose', 'title', 'zip_code', 'addr_state', 'dti', 'delinq_2yrs', 'earliest_cr_line', 'inq_last_6mths', 'mths_since_last_delinq', 'mths_since_last_record', 'open_acc', 'pub_rec', 'revol_bal', 'revol_util', 'total_acc', 'out_prncp', 'out_prncp_inv', 'total_pymnt', 'total_pymnt_inv', 'total_rec_prncp', 'total_rec_int', 'total_rec_late_fee', 'recoveries', 'collection_recovery_fee', 'last_pymnt_d', 'last_pymnt_amnt', 'next_pymnt_d', 'last_credit_pull_d', 'pub_rec_bankruptcies']\n"
          ]
        }
      ]
    },
    {
      "cell_type": "code",
      "source": [
        "df1.info()"
      ],
      "metadata": {
        "id": "B3AzwU74OZ_D",
        "outputId": "3e422584-99ad-4a34-8ec0-4cd2a15bfb73",
        "colab": {
          "base_uri": "https://localhost:8080/"
        }
      },
      "execution_count": 13,
      "outputs": [
        {
          "output_type": "stream",
          "name": "stdout",
          "text": [
            "<class 'pandas.core.frame.DataFrame'>\n",
            "RangeIndex: 39717 entries, 0 to 39716\n",
            "Data columns (total 48 columns):\n",
            " #   Column                   Non-Null Count  Dtype  \n",
            "---  ------                   --------------  -----  \n",
            " 0   id                       39717 non-null  int64  \n",
            " 1   member_id                39717 non-null  int64  \n",
            " 2   loan_amnt                39717 non-null  int64  \n",
            " 3   funded_amnt              39717 non-null  int64  \n",
            " 4   funded_amnt_inv          39717 non-null  float64\n",
            " 5   term                     39717 non-null  object \n",
            " 6   int_rate                 39717 non-null  object \n",
            " 7   installment              39717 non-null  float64\n",
            " 8   grade                    39717 non-null  object \n",
            " 9   sub_grade                39717 non-null  object \n",
            " 10  emp_title                37258 non-null  object \n",
            " 11  emp_length               38642 non-null  object \n",
            " 12  home_ownership           39717 non-null  object \n",
            " 13  annual_inc               39717 non-null  float64\n",
            " 14  verification_status      39717 non-null  object \n",
            " 15  issue_d                  39717 non-null  object \n",
            " 16  loan_status              39717 non-null  object \n",
            " 17  url                      39717 non-null  object \n",
            " 18  desc                     26775 non-null  object \n",
            " 19  purpose                  39717 non-null  object \n",
            " 20  title                    39706 non-null  object \n",
            " 21  zip_code                 39717 non-null  object \n",
            " 22  addr_state               39717 non-null  object \n",
            " 23  dti                      39717 non-null  float64\n",
            " 24  delinq_2yrs              39717 non-null  int64  \n",
            " 25  earliest_cr_line         39717 non-null  object \n",
            " 26  inq_last_6mths           39717 non-null  int64  \n",
            " 27  mths_since_last_delinq   14035 non-null  float64\n",
            " 28  mths_since_last_record   2786 non-null   float64\n",
            " 29  open_acc                 39717 non-null  int64  \n",
            " 30  pub_rec                  39717 non-null  int64  \n",
            " 31  revol_bal                39717 non-null  int64  \n",
            " 32  revol_util               39667 non-null  object \n",
            " 33  total_acc                39717 non-null  int64  \n",
            " 34  out_prncp                39717 non-null  float64\n",
            " 35  out_prncp_inv            39717 non-null  float64\n",
            " 36  total_pymnt              39717 non-null  float64\n",
            " 37  total_pymnt_inv          39717 non-null  float64\n",
            " 38  total_rec_prncp          39717 non-null  float64\n",
            " 39  total_rec_int            39717 non-null  float64\n",
            " 40  total_rec_late_fee       39717 non-null  float64\n",
            " 41  recoveries               39717 non-null  float64\n",
            " 42  collection_recovery_fee  39717 non-null  float64\n",
            " 43  last_pymnt_d             39646 non-null  object \n",
            " 44  last_pymnt_amnt          39717 non-null  float64\n",
            " 45  next_pymnt_d             1140 non-null   object \n",
            " 46  last_credit_pull_d       39715 non-null  object \n",
            " 47  pub_rec_bankruptcies     39020 non-null  float64\n",
            "dtypes: float64(17), int64(10), object(21)\n",
            "memory usage: 14.5+ MB\n"
          ]
        }
      ]
    },
    {
      "cell_type": "code",
      "source": [
        "df1.isnull().mean()*100"
      ],
      "metadata": {
        "id": "0J6z2MtKPDU7",
        "outputId": "fcd64b13-d20a-48fe-c121-d245cecafed3",
        "colab": {
          "base_uri": "https://localhost:8080/"
        }
      },
      "execution_count": 14,
      "outputs": [
        {
          "output_type": "execute_result",
          "data": {
            "text/plain": [
              "id                          0.000000\n",
              "member_id                   0.000000\n",
              "loan_amnt                   0.000000\n",
              "funded_amnt                 0.000000\n",
              "funded_amnt_inv             0.000000\n",
              "term                        0.000000\n",
              "int_rate                    0.000000\n",
              "installment                 0.000000\n",
              "grade                       0.000000\n",
              "sub_grade                   0.000000\n",
              "emp_title                   6.191303\n",
              "emp_length                  2.706650\n",
              "home_ownership              0.000000\n",
              "annual_inc                  0.000000\n",
              "verification_status         0.000000\n",
              "issue_d                     0.000000\n",
              "loan_status                 0.000000\n",
              "url                         0.000000\n",
              "desc                       32.585543\n",
              "purpose                     0.000000\n",
              "title                       0.027696\n",
              "zip_code                    0.000000\n",
              "addr_state                  0.000000\n",
              "dti                         0.000000\n",
              "delinq_2yrs                 0.000000\n",
              "earliest_cr_line            0.000000\n",
              "inq_last_6mths              0.000000\n",
              "mths_since_last_delinq     64.662487\n",
              "mths_since_last_record     92.985372\n",
              "open_acc                    0.000000\n",
              "pub_rec                     0.000000\n",
              "revol_bal                   0.000000\n",
              "revol_util                  0.125891\n",
              "total_acc                   0.000000\n",
              "out_prncp                   0.000000\n",
              "out_prncp_inv               0.000000\n",
              "total_pymnt                 0.000000\n",
              "total_pymnt_inv             0.000000\n",
              "total_rec_prncp             0.000000\n",
              "total_rec_int               0.000000\n",
              "total_rec_late_fee          0.000000\n",
              "recoveries                  0.000000\n",
              "collection_recovery_fee     0.000000\n",
              "last_pymnt_d                0.178765\n",
              "last_pymnt_amnt             0.000000\n",
              "next_pymnt_d               97.129693\n",
              "last_credit_pull_d          0.005036\n",
              "pub_rec_bankruptcies        1.754916\n",
              "dtype: float64"
            ]
          },
          "metadata": {},
          "execution_count": 14
        }
      ]
    },
    {
      "cell_type": "markdown",
      "source": [
        "Dropping colmns with null values more than 40%.\n",
        "\n",
        "**Columns                   % of Null Values**\n",
        "\n",
        "\n",
        "1.   mths_since_last_delinq     64.662487\n",
        "2.   mths_since_last_record     92.985372\n",
        "3.   next_pymnt_d               97.129693\n",
        "\n",
        "\n",
        "\n",
        "\n",
        "\n"
      ],
      "metadata": {
        "id": "8R89-18xx1GS"
      }
    },
    {
      "cell_type": "code",
      "source": [
        "null_percentage = df1.isnull().mean() * 100\n",
        "\n",
        "# Identify columns where the percentage of null values is greater than 40%\n",
        "columns_to_drop = null_percentage[null_percentage > 40].index\n",
        "\n",
        "# Drop these columns from the DataFrame\n",
        "df1 = df1.drop(columns=columns_to_drop)\n",
        "\n"
      ],
      "metadata": {
        "id": "0yKg9IIdyyT3"
      },
      "execution_count": 15,
      "outputs": []
    },
    {
      "cell_type": "code",
      "source": [
        "#Finding Shape after removig columns with null > 40%\n",
        "df1.shape\n",
        "df1.isnull().mean()*100"
      ],
      "metadata": {
        "id": "5g7pNoMszrja",
        "outputId": "22ae9fa5-1fd8-40f5-d4a4-a471b65d3a71",
        "colab": {
          "base_uri": "https://localhost:8080/"
        }
      },
      "execution_count": 16,
      "outputs": [
        {
          "output_type": "execute_result",
          "data": {
            "text/plain": [
              "id                          0.000000\n",
              "member_id                   0.000000\n",
              "loan_amnt                   0.000000\n",
              "funded_amnt                 0.000000\n",
              "funded_amnt_inv             0.000000\n",
              "term                        0.000000\n",
              "int_rate                    0.000000\n",
              "installment                 0.000000\n",
              "grade                       0.000000\n",
              "sub_grade                   0.000000\n",
              "emp_title                   6.191303\n",
              "emp_length                  2.706650\n",
              "home_ownership              0.000000\n",
              "annual_inc                  0.000000\n",
              "verification_status         0.000000\n",
              "issue_d                     0.000000\n",
              "loan_status                 0.000000\n",
              "url                         0.000000\n",
              "desc                       32.585543\n",
              "purpose                     0.000000\n",
              "title                       0.027696\n",
              "zip_code                    0.000000\n",
              "addr_state                  0.000000\n",
              "dti                         0.000000\n",
              "delinq_2yrs                 0.000000\n",
              "earliest_cr_line            0.000000\n",
              "inq_last_6mths              0.000000\n",
              "open_acc                    0.000000\n",
              "pub_rec                     0.000000\n",
              "revol_bal                   0.000000\n",
              "revol_util                  0.125891\n",
              "total_acc                   0.000000\n",
              "out_prncp                   0.000000\n",
              "out_prncp_inv               0.000000\n",
              "total_pymnt                 0.000000\n",
              "total_pymnt_inv             0.000000\n",
              "total_rec_prncp             0.000000\n",
              "total_rec_int               0.000000\n",
              "total_rec_late_fee          0.000000\n",
              "recoveries                  0.000000\n",
              "collection_recovery_fee     0.000000\n",
              "last_pymnt_d                0.178765\n",
              "last_pymnt_amnt             0.000000\n",
              "last_credit_pull_d          0.005036\n",
              "pub_rec_bankruptcies        1.754916\n",
              "dtype: float64"
            ]
          },
          "metadata": {},
          "execution_count": 16
        }
      ]
    },
    {
      "cell_type": "code",
      "source": [],
      "metadata": {
        "id": "HD2-30SUPDq9"
      },
      "execution_count": 16,
      "outputs": []
    },
    {
      "cell_type": "code",
      "source": [],
      "metadata": {
        "id": "NkRES25bPDuF"
      },
      "execution_count": 16,
      "outputs": []
    },
    {
      "cell_type": "markdown",
      "source": [
        "### Questions"
      ],
      "metadata": {
        "id": "xgowVhOAYJ59"
      }
    },
    {
      "cell_type": "code",
      "source": [
        "# Do we need Emp title ?\n"
      ],
      "metadata": {
        "id": "uZJkSGb4PDxK"
      },
      "execution_count": 17,
      "outputs": []
    },
    {
      "cell_type": "code",
      "source": [
        "\n",
        "\n"
      ],
      "metadata": {
        "id": "eFRsmT8BPD0F"
      },
      "execution_count": 17,
      "outputs": []
    },
    {
      "cell_type": "code",
      "source": [],
      "metadata": {
        "id": "gbozXsj1PD39"
      },
      "execution_count": 17,
      "outputs": []
    },
    {
      "cell_type": "code",
      "source": [],
      "metadata": {
        "id": "LS3JDM6SPECi"
      },
      "execution_count": 17,
      "outputs": []
    },
    {
      "cell_type": "markdown",
      "source": [
        "## **Cleansing Data**\n",
        "\n",
        "\n",
        "* Find Shape of data\n",
        "* Check for Null columns and cells\n",
        "* For numeric data use either median ( mostly ) or mode as required\n",
        "* For categorical data use Mode"
      ],
      "metadata": {
        "id": "hlXJ42HKoLWi"
      }
    },
    {
      "cell_type": "markdown",
      "source": [
        "** Remove Unwanted colums**"
      ],
      "metadata": {
        "id": "gTXXD7SF5RtE"
      }
    },
    {
      "cell_type": "code",
      "source": [
        "df1 = df1.drop(columns=['desc','title'.'url'])"
      ],
      "metadata": {
        "id": "_wP7b1mk5FVA"
      },
      "execution_count": 18,
      "outputs": []
    },
    {
      "cell_type": "markdown",
      "source": [
        " **Fix the Fromat of the columns by conversion where its required. e,g Emp_lenght need to be converted to int**"
      ],
      "metadata": {
        "id": "ridsozZE9gPk"
      }
    },
    {
      "cell_type": "code",
      "source": [
        "df1.info()"
      ],
      "metadata": {
        "id": "fHLL5ko1-rlO",
        "outputId": "265afee8-6999-4523-8521-2c56c9602475",
        "colab": {
          "base_uri": "https://localhost:8080/"
        }
      },
      "execution_count": 19,
      "outputs": [
        {
          "output_type": "stream",
          "name": "stdout",
          "text": [
            "<class 'pandas.core.frame.DataFrame'>\n",
            "RangeIndex: 39717 entries, 0 to 39716\n",
            "Data columns (total 43 columns):\n",
            " #   Column                   Non-Null Count  Dtype  \n",
            "---  ------                   --------------  -----  \n",
            " 0   id                       39717 non-null  int64  \n",
            " 1   member_id                39717 non-null  int64  \n",
            " 2   loan_amnt                39717 non-null  int64  \n",
            " 3   funded_amnt              39717 non-null  int64  \n",
            " 4   funded_amnt_inv          39717 non-null  float64\n",
            " 5   term                     39717 non-null  object \n",
            " 6   int_rate                 39717 non-null  object \n",
            " 7   installment              39717 non-null  float64\n",
            " 8   grade                    39717 non-null  object \n",
            " 9   sub_grade                39717 non-null  object \n",
            " 10  emp_title                37258 non-null  object \n",
            " 11  emp_length               38642 non-null  object \n",
            " 12  home_ownership           39717 non-null  object \n",
            " 13  annual_inc               39717 non-null  float64\n",
            " 14  verification_status      39717 non-null  object \n",
            " 15  issue_d                  39717 non-null  object \n",
            " 16  loan_status              39717 non-null  object \n",
            " 17  url                      39717 non-null  object \n",
            " 18  purpose                  39717 non-null  object \n",
            " 19  zip_code                 39717 non-null  object \n",
            " 20  addr_state               39717 non-null  object \n",
            " 21  dti                      39717 non-null  float64\n",
            " 22  delinq_2yrs              39717 non-null  int64  \n",
            " 23  earliest_cr_line         39717 non-null  object \n",
            " 24  inq_last_6mths           39717 non-null  int64  \n",
            " 25  open_acc                 39717 non-null  int64  \n",
            " 26  pub_rec                  39717 non-null  int64  \n",
            " 27  revol_bal                39717 non-null  int64  \n",
            " 28  revol_util               39667 non-null  object \n",
            " 29  total_acc                39717 non-null  int64  \n",
            " 30  out_prncp                39717 non-null  float64\n",
            " 31  out_prncp_inv            39717 non-null  float64\n",
            " 32  total_pymnt              39717 non-null  float64\n",
            " 33  total_pymnt_inv          39717 non-null  float64\n",
            " 34  total_rec_prncp          39717 non-null  float64\n",
            " 35  total_rec_int            39717 non-null  float64\n",
            " 36  total_rec_late_fee       39717 non-null  float64\n",
            " 37  recoveries               39717 non-null  float64\n",
            " 38  collection_recovery_fee  39717 non-null  float64\n",
            " 39  last_pymnt_d             39646 non-null  object \n",
            " 40  last_pymnt_amnt          39717 non-null  float64\n",
            " 41  last_credit_pull_d       39715 non-null  object \n",
            " 42  pub_rec_bankruptcies     39020 non-null  float64\n",
            "dtypes: float64(15), int64(10), object(18)\n",
            "memory usage: 13.0+ MB\n"
          ]
        }
      ]
    },
    {
      "cell_type": "code",
      "source": [
        "#Identify the columns whcih need to be in Date Fomrat\n",
        "#issue_d\n",
        " #earliest_cr_line\n",
        "\n",
        "#last_pymnt_d\n",
        "#last_credit_pull_d\n",
        "\n",
        "#Identify whihc clumsn need to be in int format\n",
        "\n",
        "#term need to be converted to mumeric\n",
        "#int_rate     remove %\n",
        "#emp_length               need to be in numeric\n",
        "\n",
        "#revol_util"
      ],
      "metadata": {
        "id": "e1QqDwR8-ij4"
      },
      "execution_count": null,
      "outputs": []
    },
    {
      "cell_type": "code",
      "source": [
        "#function to covert the object to date column\n",
        "\n",
        "def toDate(cObj):\n",
        "  x=cObj\n",
        "  return x\n",
        "\n"
      ],
      "metadata": {
        "id": "rO5NuyUoBE5x"
      },
      "execution_count": null,
      "outputs": []
    },
    {
      "cell_type": "code",
      "source": [
        "# Identify columns where the percentage of null values is greater than 40%\n",
        "cnd = null_percentage[(null_percentage < 40) & (null_percentage != 0)].index\n",
        "\n",
        "\n",
        "df1[cnd].isnull().mean()*100"
      ],
      "metadata": {
        "id": "mL5qG9Ny0934",
        "outputId": "aa023e73-0237-49c5-d0f7-b04199e4e736",
        "colab": {
          "base_uri": "https://localhost:8080/"
        }
      },
      "execution_count": 301,
      "outputs": [
        {
          "output_type": "execute_result",
          "data": {
            "text/plain": [
              "emp_title                6.191303\n",
              "emp_length               2.706650\n",
              "desc                    32.585543\n",
              "title                    0.027696\n",
              "revol_util               0.125891\n",
              "last_pymnt_d             0.178765\n",
              "last_credit_pull_d       0.005036\n",
              "pub_rec_bankruptcies     1.754916\n",
              "dtype: float64"
            ]
          },
          "metadata": {},
          "execution_count": 301
        }
      ]
    },
    {
      "cell_type": "markdown",
      "source": [
        "Review these null values at End #404\n",
        "\n",
        "emp_title                6.191303\n",
        "desc                    32.585543\n",
        "title                    0.027696\n",
        "\n",
        "last_pymnt_d             0.178765\n",
        "last_credit_pull_d       0.005036\n",
        "pub_rec_bankruptcies     1.754916\n",
        "\n",
        "\n",
        "NOt able to decide is we can drop or not\n"
      ],
      "metadata": {
        "id": "zyLIlg0Y4NaC"
      }
    },
    {
      "cell_type": "code",
      "source": [],
      "metadata": {
        "id": "jv1pw8dc35Hs"
      },
      "execution_count": 277,
      "outputs": []
    },
    {
      "cell_type": "code",
      "source": [
        "#emp_lenght is  2.706650 null. Filling it with Median\n",
        "#revol_util               0.125891\n",
        "#examine the data in the column\n",
        "\n",
        "df1.emp_length.unique()\n",
        "df1.emp_length.nunique()\n",
        "df1.emp_length.value_counts()\n"
      ],
      "metadata": {
        "id": "I32gAd_mYrQN",
        "outputId": "38165edd-24b8-45bd-e54e-69f260927f65",
        "colab": {
          "base_uri": "https://localhost:8080/"
        }
      },
      "execution_count": 278,
      "outputs": [
        {
          "output_type": "execute_result",
          "data": {
            "text/plain": [
              "emp_length\n",
              "10+ years    8879\n",
              "< 1 year     4583\n",
              "2 years      4388\n",
              "3 years      4095\n",
              "4 years      3436\n",
              "5 years      3282\n",
              "1 year       3240\n",
              "6 years      2229\n",
              "7 years      1773\n",
              "8 years      1479\n",
              "9 years      1258\n",
              "Name: count, dtype: int64"
            ]
          },
          "metadata": {},
          "execution_count": 278
        }
      ]
    },
    {
      "cell_type": "code",
      "source": [
        "# Convert Object to int\n",
        "\n",
        "def getYears(x):\n",
        "  if isinstance(x, str):\n",
        "    xlist=x.split(\" \")\n",
        "  else:\n",
        "    xlist = []\n",
        "\n",
        "\n",
        "  if(len(xlist) == 3):\n",
        "    ans=0\n",
        "  elif (len(xlist) == 2):\n",
        "    ans=int(x.split(\" \")[0][:2])\n",
        "  elif pd.isna(x):\n",
        "    ans=x\n",
        "  else:\n",
        "      ans=int(x)\n",
        "  return ans\n",
        "\n",
        "\n",
        "# Convertng Object to int\n",
        "df1['emp_length'] =  df1['emp_length'].apply(getYears)\n"
      ],
      "metadata": {
        "id": "-qDyiD8-ZfW-"
      },
      "execution_count": 279,
      "outputs": []
    },
    {
      "cell_type": "code",
      "source": [
        "df1.emp_length.unique()\n",
        "df1.emp_length.value_counts()"
      ],
      "metadata": {
        "id": "wCHtemcrdNP8",
        "outputId": "ec8b2edf-0b0e-43db-afc4-3df750b8f600",
        "colab": {
          "base_uri": "https://localhost:8080/"
        }
      },
      "execution_count": 280,
      "outputs": [
        {
          "output_type": "execute_result",
          "data": {
            "text/plain": [
              "emp_length\n",
              "10.0    8879\n",
              "0.0     4583\n",
              "2.0     4388\n",
              "3.0     4095\n",
              "4.0     3436\n",
              "5.0     3282\n",
              "1.0     3240\n",
              "6.0     2229\n",
              "7.0     1773\n",
              "8.0     1479\n",
              "9.0     1258\n",
              "Name: count, dtype: int64"
            ]
          },
          "metadata": {},
          "execution_count": 280
        }
      ]
    },
    {
      "cell_type": "code",
      "source": [
        "#Find the median of the emp_length\n",
        "import math\n",
        "\n",
        "expmedian= math.trunc(int(df1.emp_length.median()))\n",
        "print(math.trunc(expmedian))\n",
        "\n",
        "df1.emp_length.isnull().sum()\n",
        "\n",
        "df1.emp_length=df1.emp_length.fillna(math.trunc(expmedian))\n",
        "df1.emp_length.value_counts()"
      ],
      "metadata": {
        "id": "mu-Kl7G5e0N0",
        "outputId": "17c8223a-5f22-4f5d-d1f9-3119b22a5a51",
        "colab": {
          "base_uri": "https://localhost:8080/"
        }
      },
      "execution_count": 281,
      "outputs": [
        {
          "output_type": "stream",
          "name": "stdout",
          "text": [
            "4\n"
          ]
        },
        {
          "output_type": "execute_result",
          "data": {
            "text/plain": [
              "emp_length\n",
              "10.0    8879\n",
              "0.0     4583\n",
              "4.0     4511\n",
              "2.0     4388\n",
              "3.0     4095\n",
              "5.0     3282\n",
              "1.0     3240\n",
              "6.0     2229\n",
              "7.0     1773\n",
              "8.0     1479\n",
              "9.0     1258\n",
              "Name: count, dtype: int64"
            ]
          },
          "metadata": {},
          "execution_count": 281
        }
      ]
    },
    {
      "cell_type": "code",
      "source": [
        "df1.isnull().mean()*100"
      ],
      "metadata": {
        "id": "VcgFca2ygl8M",
        "outputId": "d321daae-57f2-4fee-f623-7ad4dc253c31",
        "colab": {
          "base_uri": "https://localhost:8080/"
        }
      },
      "execution_count": 282,
      "outputs": [
        {
          "output_type": "execute_result",
          "data": {
            "text/plain": [
              "id                         0.000000\n",
              "member_id                  0.000000\n",
              "loan_amnt                  0.000000\n",
              "funded_amnt                0.000000\n",
              "funded_amnt_inv            0.000000\n",
              "term                       0.000000\n",
              "int_rate                   0.000000\n",
              "installment                0.000000\n",
              "grade                      0.000000\n",
              "sub_grade                  0.000000\n",
              "emp_title                  6.191303\n",
              "emp_length                 0.000000\n",
              "home_ownership             0.000000\n",
              "annual_inc                 0.000000\n",
              "verification_status        0.000000\n",
              "issue_d                    0.000000\n",
              "loan_status                0.000000\n",
              "url                        0.000000\n",
              "purpose                    0.000000\n",
              "zip_code                   0.000000\n",
              "addr_state                 0.000000\n",
              "dti                        0.000000\n",
              "delinq_2yrs                0.000000\n",
              "earliest_cr_line           0.000000\n",
              "inq_last_6mths             0.000000\n",
              "open_acc                   0.000000\n",
              "pub_rec                    0.000000\n",
              "revol_bal                  0.000000\n",
              "revol_util                 0.125891\n",
              "total_acc                  0.000000\n",
              "out_prncp                  0.000000\n",
              "out_prncp_inv              0.000000\n",
              "total_pymnt                0.000000\n",
              "total_pymnt_inv            0.000000\n",
              "total_rec_prncp            0.000000\n",
              "total_rec_int              0.000000\n",
              "total_rec_late_fee         0.000000\n",
              "recoveries                 0.000000\n",
              "collection_recovery_fee    0.000000\n",
              "last_pymnt_d               0.178765\n",
              "last_pymnt_amnt            0.000000\n",
              "last_credit_pull_d         0.005036\n",
              "pub_rec_bankruptcies       1.754916\n",
              "dtype: float64"
            ]
          },
          "metadata": {},
          "execution_count": 282
        }
      ]
    },
    {
      "cell_type": "code",
      "source": [
        "#removing columns as we might not be using it.\n",
        "#Check why there is an error commenting for now\n",
        "#df1=df1.drop(['mths_since_last_record','next_pymnt_d'],axis=1)"
      ],
      "metadata": {
        "id": "60S_d9fZrhkR"
      },
      "execution_count": 283,
      "outputs": []
    },
    {
      "cell_type": "markdown",
      "source": [
        "## **Univariate Analysis**\n",
        "\n",
        "* Identify the columns to be Analyzed\n",
        "* Generate plots ( Bar , Box Plot and Histogram )\n",
        "* Review each column and *remove outliers\n"
      ],
      "metadata": {
        "id": "DJAEQSMOpUFf"
      }
    },
    {
      "cell_type": "markdown",
      "source": [
        "##Segmentation"
      ],
      "metadata": {
        "id": "2a93PWj7lYiq"
      }
    },
    {
      "cell_type": "code",
      "source": [
        "df1.head(3)"
      ],
      "metadata": {
        "id": "xfwsimAulfym"
      },
      "execution_count": null,
      "outputs": []
    },
    {
      "cell_type": "code",
      "source": [
        "df1.columns"
      ],
      "metadata": {
        "id": "UOauokP6lncj"
      },
      "execution_count": null,
      "outputs": []
    },
    {
      "cell_type": "code",
      "source": [
        "cat_cols=[ 'grade', 'sub_grade','home_ownership', 'verification_status',\n",
        "       'issue_d', 'loan_status', 'pymnt_plan','zip_code', 'addr_state','open_acc', 'pub_rec',]\n",
        "num_cols=['loan_amnt','funded_amnt','funded_amnt_inv', 'term', 'int_rate', 'installment',\n",
        "          'emp_length',  'annual_inc','dti', 'delinq_2yrs','inq_last_6mths', 'mths_since_last_delinq',\n",
        "          'revol_bal','revol_util', 'total_acc','out_prncp',\n",
        "          'out_prncp_inv', 'total_pymnt', 'total_pymnt_inv','total_rec_prncp',\n",
        "          'total_rec_int', 'total_rec_late_fee', 'recoveries','collection_recovery_fee', ]\n",
        "extra_cols=['id', 'member_id',  'emp_title','url', 'desc', 'purpose',\n",
        "       'title','earliest_cr_line',   'initial_list_status', 'last_pymnt_d', 'last_pymnt_amnt',\n",
        "       'next_pymnt_d', 'last_credit_pull_d', 'collections_12_mths_ex_med']"
      ],
      "metadata": {
        "id": "CAxF1UeJkzn_"
      },
      "execution_count": null,
      "outputs": []
    },
    {
      "cell_type": "markdown",
      "source": [
        "### Numerical Columns Analysis"
      ],
      "metadata": {
        "id": "_9Fl4UXft60E"
      }
    },
    {
      "cell_type": "code",
      "source": [
        "for i in num_cols:\n",
        "    sns.histplot(x=df1[i])\n",
        "    plt.show()"
      ],
      "metadata": {
        "id": "CY57s7eit5lZ"
      },
      "execution_count": null,
      "outputs": []
    },
    {
      "cell_type": "code",
      "source": [
        "#collection recovery fee analysis\n",
        "df1.collection_recovery_fee.value_counts()  #collection_recovery_fee"
      ],
      "metadata": {
        "id": "vM6ZADMEvYxZ"
      },
      "execution_count": null,
      "outputs": []
    },
    {
      "cell_type": "code",
      "source": [
        "sns.histplot(x=df1['collection_recovery_fee'], bins = range(0,10,1) )\n",
        "plt.show()"
      ],
      "metadata": {
        "id": "ufFXsEO9vmZn"
      },
      "execution_count": null,
      "outputs": []
    },
    {
      "cell_type": "markdown",
      "source": [
        "## **Bivariate Analysis**\n",
        "\n",
        "* Identify the pairs of columns to be Analyzed\n",
        "* Generate cattered plots plots and identify the dependency\n"
      ],
      "metadata": {
        "id": "Zrp6858BJDXv"
      }
    },
    {
      "cell_type": "markdown",
      "source": [
        "## **Multivariate Analysis**\n",
        "\n",
        "## For all Numeric columns plot a heat map and identify the corelation\n",
        "\n",
        "\n",
        "* *Correlation represents strength of relationship between variables*\n",
        "* *Correlation lies in the range of -1 to 1*\n",
        "* *Negative correlation  (0 to -1) shows inverse relationship*\n",
        "* *Positive correlation (0 to 1) shows direct relationship*\n",
        "* *0 correlation represents no relationship. *italicized text*"
      ],
      "metadata": {
        "id": "2bcRToJQJUwH"
      }
    },
    {
      "cell_type": "markdown",
      "source": [
        "## Univariate Analysis --> Analysis with Single variable\n",
        "--> Mean, Median, Max, Min, Std, Variance, Count\n",
        "--> Distribution (Histogram,Distplot,Countplot,boxplot)\n",
        "## Bivaraite Analsyis --> Analysis with two variables\n",
        "--> Relationship between two variables (Scatterplot, boxplot,barplot etc)\n",
        "## Multivariate Analysis\n",
        "--> Relationship between more than variables (Heatmap etc)"
      ],
      "metadata": {
        "id": "TDDXwJqjLAZ4"
      }
    },
    {
      "cell_type": "markdown",
      "source": [
        "Coomit at 12.15"
      ],
      "metadata": {
        "id": "svXtPhRiWYqW"
      }
    },
    {
      "cell_type": "markdown",
      "source": [
        "Commiting at 12.10"
      ],
      "metadata": {
        "id": "AEXcN_dZVQ6i"
      }
    }
  ]
}